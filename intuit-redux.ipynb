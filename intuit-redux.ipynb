{
 "cells": [
  {
   "cell_type": "markdown",
   "metadata": {},
   "source": [
    "# Intuit Quickbooks Upgrade\n",
    "\n",
    "* Team-lead GitLab userid:\n",
    "* Group name:\n",
    "* Team member names:"
   ]
  },
  {
   "cell_type": "markdown",
   "metadata": {},
   "source": [
    "## Setup\n",
    "\n",
    "Please complete this python notebook with your group by answering the questions in `intuit-redux.pdf`. Create a Notebook and HTML file with all your results and comments and push both the Notebook and HTML file to GitLab when your team is done. All results MUST be reproducible (i.e., the TA and I must be able to recreate the HTML file from the Jupyter Notebook without changes or errors). This means that you should NOT use any python-packages that are not part of the rsm-msba-spark docker container.\n",
    "\n",
    "This is the second group assignment for MGTA 455 and you will be using Git and GitLab. If two people edit the same file at the same time you could get what is called a \"merge conflict\". This is not something serious but you should realize that Git will not decide for you who's change to accept so the team-lead will have to determine the edits to use. To avoid merge conflicts, **always** \"pull\" changes to the repo before you start working on any files. Then, when you are done, save and commit your changes, and then push them to GitLab. Make \"pull first\" a habit!\n",
    "\n",
    "If multiple people are going to work on the assignment at the same time I recommend you work in different notebooks. You can then `%run ...`  these \"sub\" notebooks from the main assignment file. You can seen an example of this in action below for the `model1.ipynb` notebook\n",
    "\n",
    "Some group work-flow tips:\n",
    "\n",
    "* Pull, edit, save, stage, commit, and push\n",
    "* Schedule who does what and when\n",
    "* Try to avoid working simultaneously on the same file \n",
    "* If you are going to work simultaneously, do it in different notebooks, e.g., \n",
    "    - model1.ipynb, model2.ipynb, model3.ipynb\n",
    "* Use the `%run ... ` command to bring different pieces of code together into the main jupyter notebook\n",
    "* Put python functions in modules that you can import from your notebooks. See the example below for the `example` function defined in `utils/functions.py`\n",
    "\n",
    "A graphical depiction of the group work-flow is shown below:\n",
    "\n",
    "![](images/git-group-workflow-wbg.png)\n",
    "\n",
    "Tutorial videos about using Git, GitLab, and GitGadget for group assignments:\n",
    "\n",
    "* Setup the MSBA server to use Git and GitLab: https://youtu.be/zJHwodmjatY\n",
    "* Dealing with Merge Conflicts: https://youtu.be/qFnyb8_rgTI\n",
    "* Group assignment practice: https://youtu.be/4Ty_94gIWeA"
   ]
  },
  {
   "cell_type": "code",
   "execution_count": 19,
   "metadata": {},
   "outputs": [],
   "source": [
    "import matplotlib as mpl\n",
    "import matplotlib.pyplot as plt\n",
    "import numpy as np\n",
    "import pandas as pd\n",
    "import pyrsm as rsm\n",
    "import statsmodels.formula.api as smf\n",
    "from sklearn import preprocessing\n",
    "from statsmodels.genmod.families import Binomial\n",
    "from statsmodels.genmod.families.links import logit\n",
    "\n",
    "# increase plot resolution\n",
    "# mpl.rcParams[\"figure.dpi\"] = 150"
   ]
  },
  {
   "cell_type": "code",
   "execution_count": 20,
   "metadata": {},
   "outputs": [
    {
     "data": {
      "text/html": [
       "<div>\n",
       "<style scoped>\n",
       "    .dataframe tbody tr th:only-of-type {\n",
       "        vertical-align: middle;\n",
       "    }\n",
       "\n",
       "    .dataframe tbody tr th {\n",
       "        vertical-align: top;\n",
       "    }\n",
       "\n",
       "    .dataframe thead th {\n",
       "        text-align: right;\n",
       "    }\n",
       "</style>\n",
       "<table border=\"1\" class=\"dataframe\">\n",
       "  <thead>\n",
       "    <tr style=\"text-align: right;\">\n",
       "      <th></th>\n",
       "      <th>id</th>\n",
       "      <th>zip</th>\n",
       "      <th>zip_bins</th>\n",
       "      <th>sex</th>\n",
       "      <th>bizflag</th>\n",
       "      <th>numords</th>\n",
       "      <th>dollars</th>\n",
       "      <th>last</th>\n",
       "      <th>sincepurch</th>\n",
       "      <th>version1</th>\n",
       "      <th>owntaxprod</th>\n",
       "      <th>upgraded</th>\n",
       "      <th>res1</th>\n",
       "      <th>training</th>\n",
       "      <th>res1_yes</th>\n",
       "    </tr>\n",
       "  </thead>\n",
       "  <tbody>\n",
       "    <tr>\n",
       "      <th>0</th>\n",
       "      <td>1</td>\n",
       "      <td>94553</td>\n",
       "      <td>18</td>\n",
       "      <td>Male</td>\n",
       "      <td>0</td>\n",
       "      <td>2</td>\n",
       "      <td>109.5</td>\n",
       "      <td>5</td>\n",
       "      <td>12</td>\n",
       "      <td>0</td>\n",
       "      <td>0</td>\n",
       "      <td>0</td>\n",
       "      <td>No</td>\n",
       "      <td>1</td>\n",
       "      <td>0</td>\n",
       "    </tr>\n",
       "    <tr>\n",
       "      <th>1</th>\n",
       "      <td>2</td>\n",
       "      <td>53190</td>\n",
       "      <td>10</td>\n",
       "      <td>Unknown</td>\n",
       "      <td>0</td>\n",
       "      <td>1</td>\n",
       "      <td>69.5</td>\n",
       "      <td>4</td>\n",
       "      <td>3</td>\n",
       "      <td>0</td>\n",
       "      <td>0</td>\n",
       "      <td>0</td>\n",
       "      <td>No</td>\n",
       "      <td>0</td>\n",
       "      <td>0</td>\n",
       "    </tr>\n",
       "    <tr>\n",
       "      <th>2</th>\n",
       "      <td>3</td>\n",
       "      <td>37091</td>\n",
       "      <td>8</td>\n",
       "      <td>Male</td>\n",
       "      <td>0</td>\n",
       "      <td>4</td>\n",
       "      <td>93.0</td>\n",
       "      <td>14</td>\n",
       "      <td>29</td>\n",
       "      <td>0</td>\n",
       "      <td>0</td>\n",
       "      <td>1</td>\n",
       "      <td>No</td>\n",
       "      <td>0</td>\n",
       "      <td>0</td>\n",
       "    </tr>\n",
       "    <tr>\n",
       "      <th>3</th>\n",
       "      <td>4</td>\n",
       "      <td>02125</td>\n",
       "      <td>1</td>\n",
       "      <td>Male</td>\n",
       "      <td>0</td>\n",
       "      <td>1</td>\n",
       "      <td>22.0</td>\n",
       "      <td>17</td>\n",
       "      <td>1</td>\n",
       "      <td>0</td>\n",
       "      <td>0</td>\n",
       "      <td>0</td>\n",
       "      <td>No</td>\n",
       "      <td>1</td>\n",
       "      <td>0</td>\n",
       "    </tr>\n",
       "    <tr>\n",
       "      <th>4</th>\n",
       "      <td>5</td>\n",
       "      <td>60201</td>\n",
       "      <td>11</td>\n",
       "      <td>Male</td>\n",
       "      <td>0</td>\n",
       "      <td>1</td>\n",
       "      <td>24.5</td>\n",
       "      <td>2</td>\n",
       "      <td>3</td>\n",
       "      <td>0</td>\n",
       "      <td>0</td>\n",
       "      <td>0</td>\n",
       "      <td>No</td>\n",
       "      <td>0</td>\n",
       "      <td>0</td>\n",
       "    </tr>\n",
       "  </tbody>\n",
       "</table>\n",
       "</div>"
      ],
      "text/plain": [
       "   id    zip  zip_bins      sex  bizflag  numords  dollars  last  sincepurch  \\\n",
       "0   1  94553        18     Male        0        2    109.5     5          12   \n",
       "1   2  53190        10  Unknown        0        1     69.5     4           3   \n",
       "2   3  37091         8     Male        0        4     93.0    14          29   \n",
       "3   4  02125         1     Male        0        1     22.0    17           1   \n",
       "4   5  60201        11     Male        0        1     24.5     2           3   \n",
       "\n",
       "   version1  owntaxprod  upgraded res1  training  res1_yes  \n",
       "0         0           0         0   No         1         0  \n",
       "1         0           0         0   No         0         0  \n",
       "2         0           0         1   No         0         0  \n",
       "3         0           0         0   No         1         0  \n",
       "4         0           0         0   No         0         0  "
      ]
     },
     "execution_count": 20,
     "metadata": {},
     "output_type": "execute_result"
    }
   ],
   "source": [
    "## loading the data - this dataset must NOT be changed\n",
    "intuit75k = pd.read_pickle(\"data/intuit75k.pkl\")\n",
    "intuit75k[\"res1_yes\"] = (intuit75k[\"res1\"] == \"Yes\").astype(int)\n",
    "intuit75k.head()"
   ]
  },
  {
   "cell_type": "code",
   "execution_count": 21,
   "metadata": {},
   "outputs": [
    {
     "name": "stdout",
     "output_type": "stream",
     "text": [
      "## Intuit: Quickbooks upgrade\n",
      "\n",
      "The purpose of this exercise is to gain experience modeling the response to an upsell campaign. The `intuit75k.rds` file contains data on 75,000 (small) businesses that were selected randomly from the 801,821 that were sent the wave-1 mailing. The mailing contained an offer to upgrade to the latest version of the Quickbooks software. \n",
      "\n",
      "Variable `res1` denotes which of these businesses responded to the mailing by purchasing Quickbooks version 3.0 from Intuit Direct. Note that Intuit Direct sells products directly to its customers rather than through a retailer. Use the available data to predict which businesses that did not respond to the wave-1 mailing, are most likely to respond to the wave-2 mailing. Note that variables were added, deleted, and recoded so please ignore the variable descriptions in Exhibit 3 in the case in the course reader. Instead, use the variable descriptions below:\n",
      "\n",
      "## Variable description\n",
      "\n",
      "* id: Small business customer ID\n",
      "* zip: 5-Digit ZIP Code (00000=unknown, 99999=international ZIPs).\n",
      "* zip_bins: Zip-code bins (20 approx. equal sized bins from lowest to highest zip code number)\n",
      "* sex: \"Female\", \"Male\", or \"Unknown\"\n",
      "* bizflag: Business Flag.  Address contains a Business name (1 = yes, 0 = no or unknown).\n",
      "* numords: Number of orders from Intuit Direct in the previous 36 months\n",
      "* dollars: Total $ ordered from Intuit Direct in the previous 36 months\n",
      "* last: Time (in months) since last order from Intuit Direct in previous 36 months\n",
      "* sincepurch: Time (in months) since original (not upgrade) purchase of Quickbooks\n",
      "* version1: Is 1 if customer's current Quickbooks is version 1, 0 if version 2\n",
      "* owntaxprod: Is 1 if customer purchased tax software, 0 otherwise\n",
      "* upgraded: Is 1 if customer upgraded from Quickbooks vs. 1 to vs. 2\n",
      "* res1: Response to wave 1 mailing (\"Yes\" if responded else \"No\")\n",
      "* training: 70/30 split, 1 for training sample, 0 for validation sample\n",
      "\n"
     ]
    }
   ],
   "source": [
    "# show dataset description\n",
    "rsm.describe(intuit75k)"
   ]
  },
  {
   "cell_type": "code",
   "execution_count": 22,
   "metadata": {},
   "outputs": [
    {
     "name": "stdout",
     "output_type": "stream",
     "text": [
      "      index     OR       OR%   2.5%  97.5% p.values     \n",
      "1   numords  1.352   35.224%  1.313  1.392   < .001  ***\n",
      "2  version1  2.113  111.278%  1.911  2.335   < .001  ***\n",
      "3  upgraded  2.628  162.846%  2.388  2.894   < .001  ***\n"
     ]
    }
   ],
   "source": [
    "# run python code from another notebook\n",
    "%run ./sub-notebooks/model1.ipynb"
   ]
  },
  {
   "cell_type": "code",
   "execution_count": 23,
   "metadata": {},
   "outputs": [
    {
     "name": "stdout",
     "output_type": "stream",
     "text": [
      "\n",
      "You just accessed a function from your first python packages!\n",
      "Change the code in utils/function.py to whatever you need for this assignment\n",
      "Use 'from utils import functions' to get access to your code\n",
      "You can add modules to import from by adding additional .py files to the 'utils' directory\n",
      "Note: If you make changes to the content of this file you will have to restart the notebook kernel to get the updates\n",
      "\n"
     ]
    }
   ],
   "source": [
    "# importing functions from a module/package\n",
    "from utils import functions\n",
    "functions.example()"
   ]
  },
  {
   "cell_type": "markdown",
   "metadata": {},
   "source": [
    "## 1. Explore the data again"
   ]
  },
  {
   "cell_type": "code",
   "execution_count": 8,
   "metadata": {},
   "outputs": [
    {
     "name": "stderr",
     "output_type": "stream",
     "text": [
      "/usr/local/lib/python3.8/dist-packages/seaborn/_decorators.py:36: FutureWarning: Pass the following variable as a keyword arg: x. From version 0.12, the only valid positional argument will be `data`, and passing other arguments without an explicit keyword will result in an error or misinterpretation.\n",
      "  warnings.warn(\n",
      "/usr/local/lib/python3.8/dist-packages/seaborn/_decorators.py:36: FutureWarning: Pass the following variable as a keyword arg: x. From version 0.12, the only valid positional argument will be `data`, and passing other arguments without an explicit keyword will result in an error or misinterpretation.\n",
      "  warnings.warn(\n",
      "/usr/local/lib/python3.8/dist-packages/seaborn/_decorators.py:36: FutureWarning: Pass the following variable as a keyword arg: x. From version 0.12, the only valid positional argument will be `data`, and passing other arguments without an explicit keyword will result in an error or misinterpretation.\n",
      "  warnings.warn(\n",
      "/usr/local/lib/python3.8/dist-packages/seaborn/_decorators.py:36: FutureWarning: Pass the following variable as a keyword arg: x. From version 0.12, the only valid positional argument will be `data`, and passing other arguments without an explicit keyword will result in an error or misinterpretation.\n",
      "  warnings.warn(\n",
      "/usr/local/lib/python3.8/dist-packages/seaborn/_decorators.py:36: FutureWarning: Pass the following variable as a keyword arg: x. From version 0.12, the only valid positional argument will be `data`, and passing other arguments without an explicit keyword will result in an error or misinterpretation.\n",
      "  warnings.warn(\n",
      "/usr/local/lib/python3.8/dist-packages/seaborn/_decorators.py:36: FutureWarning: Pass the following variable as a keyword arg: x. From version 0.12, the only valid positional argument will be `data`, and passing other arguments without an explicit keyword will result in an error or misinterpretation.\n",
      "  warnings.warn(\n",
      "/usr/local/lib/python3.8/dist-packages/seaborn/_decorators.py:36: FutureWarning: Pass the following variable as a keyword arg: x. From version 0.12, the only valid positional argument will be `data`, and passing other arguments without an explicit keyword will result in an error or misinterpretation.\n",
      "  warnings.warn(\n"
     ]
    },
    {
     "data": {
      "image/png": "[encoded data removed]",
      "text/plain": [
       "<Figure size 1152x864 with 12 Axes>"
      ]
     },
     "metadata": {
      "needs_background": "light"
     },
     "output_type": "display_data"
    }
   ],
   "source": [
    "import seaborn as sns\n",
    "import matplotlib.pyplot as plt\n",
    "f, axes = plt.subplots(3, 4, figsize=(16, 12))#, sharex=True)\n",
    "\n",
    "sns.countplot(intuit75k[\"zip_bins\"], color=\"skyblue\", ax=axes[0, 0])\n",
    "sns.countplot(intuit75k['sex'], color=\"olive\", ax=axes[0, 1])\n",
    "sns.countplot(intuit75k['bizflag'], color=\"gold\", ax=axes[0, 2])\n",
    "sns.countplot(intuit75k['numords'], color=\"teal\", ax=axes[0, 3])\n",
    "sns.histplot(intuit75k['dollars'], color=\"teal\", ax=axes[1, 0])\n",
    "sns.histplot(intuit75k['last'], color=\"gold\", ax=axes[1, 1])\n",
    "sns.histplot(intuit75k['sincepurch'], color=\"olive\", ax=axes[1, 2])\n",
    "sns.countplot(intuit75k['version1'], color=\"skyblue\", ax=axes[1, 3])\n",
    "sns.countplot(intuit75k['owntaxprod'], color=\"skyblue\", ax=axes[2, 0])\n",
    "sns.countplot(intuit75k['upgraded'], color=\"olive\", ax=axes[2, 1])\n",
    "sns.countplot(intuit75k['res1'], color=\"gold\", ax=axes[2, 2])\n",
    "sns.countplot(intuit75k['training'], color=\"teal\", ax=axes[2, 3])\n",
    "\n",
    "\n",
    "plt.show()"
   ]
  },
  {
   "cell_type": "code",
   "execution_count": 9,
   "metadata": {},
   "outputs": [
    {
     "data": {
      "image/png": "[encoded data removed]",
      "text/plain": [
       "<Figure size 1152x864 with 12 Axes>"
      ]
     },
     "metadata": {
      "needs_background": "light"
     },
     "output_type": "display_data"
    }
   ],
   "source": [
    "f, axes = plt.subplots(3, 4, figsize=(16, 12))#, sharex=True)\n",
    "\n",
    "sns.countplot(x='res1', hue='zip_bins', data=intuit75k, color=\"skyblue\", ax=axes[0, 0])\n",
    "sns.countplot(x='res1', hue='sex', data=intuit75k, color=\"olive\", ax=axes[0, 1])\n",
    "sns.countplot(x='res1', hue='bizflag', data=intuit75k, color=\"gold\", ax=axes[0, 2])\n",
    "sns.countplot(x='res1', hue='numords', data=intuit75k, color=\"teal\", ax=axes[0, 3])\n",
    "sns.barplot(x='res1', y='dollars', data=intuit75k, color=\"teal\", ax=axes[1, 0])\n",
    "sns.barplot(x='res1', y='last', data=intuit75k, color=\"gold\", ax=axes[1, 1])\n",
    "sns.barplot(x='res1', y='sincepurch', data=intuit75k, color=\"olive\", ax=axes[1, 2])\n",
    "sns.countplot(x='res1', hue='version1', data=intuit75k, color=\"skyblue\", ax=axes[1, 3])\n",
    "sns.countplot(x='res1', hue='owntaxprod', data=intuit75k, color=\"skyblue\", ax=axes[2, 0])\n",
    "sns.countplot(x='res1', hue='upgraded', data=intuit75k, color=\"olive\", ax=axes[2, 1])\n",
    "sns.countplot(x='res1', hue='res1_yes', data=intuit75k, color=\"gold\", ax=axes[2, 2])\n",
    "sns.countplot(x='res1', hue='training', data=intuit75k, color=\"teal\", ax=axes[2, 3])\n",
    "\n",
    "\n",
    "plt.show()"
   ]
  },
  {
   "cell_type": "markdown",
   "metadata": {},
   "source": [
    "## 2. Adjust input variables"
   ]
  },
  {
   "cell_type": "code",
   "execution_count": 10,
   "metadata": {},
   "outputs": [
    {
     "data": {
      "image/png": "[encoded data removed]",
      "text/plain": [
       "<Figure size 720x360 with 2 Axes>"
      ]
     },
     "metadata": {
      "needs_background": "light"
     },
     "output_type": "display_data"
    }
   ],
   "source": [
    "#zip bins & dollars\n",
    "intuit75k['zip_bins_1'] = (intuit75k['zip_bins'] == 1).astype(int)\n",
    "intuit75k['lg_dollars'] = np.log(intuit75k['dollars'])\n",
    "intuit75k['zip_801'] = (intuit75k['zip'] =='00801').astype(int)\n",
    "intuit75k['zip_804'] = (intuit75k['zip'] =='00804').astype(int)\n",
    "\n",
    "f, axes = plt.subplots(1, 2, figsize=(10, 5))\n",
    "sns.histplot(intuit75k['lg_dollars'], color=\"teal\", ax=axes[0])\n",
    "sns.histplot(intuit75k['dollars'], color=\"teal\", ax=axes[1])\n",
    "plt.show()"
   ]
  },
  {
   "cell_type": "code",
   "execution_count": 11,
   "metadata": {},
   "outputs": [],
   "source": [
    "# Create 3-factor label\n",
    "intuit75k['only_ver02'] = np.where((intuit75k['upgraded'] == 0) & (intuit75k['version1'] == 0), 1, 0)\n",
    "intuit75k['from_v1_to_v2'] = np.where((intuit75k['upgraded'] == 1) & (intuit75k['version1'] == 0), 1, 0)\n",
    "intuit75k['only_ver01'] = np.where((intuit75k['upgraded'] == 0) & (intuit75k['version1'] == 1), 1, 0)"
   ]
  },
  {
   "cell_type": "code",
   "execution_count": 10,
   "metadata": {},
   "outputs": [],
   "source": [
    "#breakeven & split the data\n",
    "breakeven_rate = 1.41/60\n",
    "\n",
    "train_cols = ['numords' , 'zip_bins_1', 'zip_801', 'zip_804', 'lg_dollars', 'last', 'only_ver02', 'from_v1_to_v2', 'only_ver01' ]\n",
    "rvar = \"res1_yes\"\n",
    "idvar = \"id\"\n",
    "\n",
    "train_non = intuit75k[intuit75k['training'] == 1]\n",
    "test_non = intuit75k[intuit75k['training'] == 0]\n",
    "\n",
    "Xnon_train = train_non[train_cols].values\n",
    "y_train = train_non[rvar].values\n",
    "Xnon_test = test_non[train_cols].values\n",
    "y_test = test_non[rvar].values\n",
    "\n",
    "Xnon = intuit75k[train_cols].values"
   ]
  },
  {
   "cell_type": "code",
   "execution_count": 11,
   "metadata": {},
   "outputs": [],
   "source": [
    "from sklearn.preprocessing import MinMaxScaler\n",
    "\n",
    "evar_to_transfer = intuit75k[train_cols]#.values\n",
    "scaler = MinMaxScaler()\n",
    "intuit75k[train_cols] = scaler.fit_transform(evar_to_transfer)"
   ]
  },
  {
   "cell_type": "code",
   "execution_count": 12,
   "metadata": {},
   "outputs": [],
   "source": [
    "train = intuit75k[intuit75k['training'] == 1]\n",
    "test = intuit75k[intuit75k['training'] == 0]\n",
    "\n",
    "X = intuit75k[train_cols].values\n",
    "y = intuit75k[rvar].values\n",
    "\n",
    "X_train = train[train_cols].values\n",
    "X_test = test[train_cols].values\n",
    "\n",
    "test_result = test[['id', 'res1']].copy() #store the model results"
   ]
  },
  {
   "cell_type": "code",
   "execution_count": 28,
   "metadata": {},
   "outputs": [],
   "source": [
    "def pref_calc_ad(perc_mail, rep_rate):\n",
    "    nr_mail = (22500-1103) * perc_mail\n",
    "    nr_resp = nr_mail* rep_rate *0.5\n",
    "    revenue = nr_resp * 60 \n",
    "    mail_cost = nr_mail * 1.41\n",
    "    profit = revenue  - mail_cost\n",
    "    ROME = profit / mail_cost \n",
    "    return ( f\"\"\"the number of businesses to mail is {int(nr_mail):,} ({round((100 * perc_mail), 2)}%). The response rate for the selected customers is predicted to be {round((100 * rep_rate), 2)}% or {int(nr_resp):,} buyers. The revenue is equal to ${int(revenue):,}. The expected profit is ${int(profit):,}. The marginal cost is estimated to be ${int(mail_cost):,} with a ROME of {round((100 * ROME), 2)}%\"\"\")"
   ]
  },
  {
   "cell_type": "markdown",
   "metadata": {},
   "source": [
    "## 3. Redo Logistic Regression"
   ]
  },
  {
   "cell_type": "code",
   "execution_count": 14,
   "metadata": {},
   "outputs": [
    {
     "data": {
      "text/html": [
       "<table class=\"simpletable\">\n",
       "<caption>Generalized Linear Model Regression Results</caption>\n",
       "<tr>\n",
       "  <th>Dep. Variable:</th>       <td>res1_yes</td>     <th>  No. Observations:  </th>  <td> 52500</td> \n",
       "</tr>\n",
       "<tr>\n",
       "  <th>Model:</th>                  <td>GLM</td>       <th>  Df Residuals:      </th>  <td> 52491</td> \n",
       "</tr>\n",
       "<tr>\n",
       "  <th>Model Family:</th>        <td>Binomial</td>     <th>  Df Model:          </th>  <td>     8</td> \n",
       "</tr>\n",
       "<tr>\n",
       "  <th>Link Function:</th>         <td>logit</td>      <th>  Scale:             </th> <td>  1.0000</td>\n",
       "</tr>\n",
       "<tr>\n",
       "  <th>Method:</th>                <td>IRLS</td>       <th>  Log-Likelihood:    </th> <td> -8585.7</td>\n",
       "</tr>\n",
       "<tr>\n",
       "  <th>Date:</th>            <td>Wed, 17 Feb 2021</td> <th>  Deviance:          </th> <td>  17171.</td>\n",
       "</tr>\n",
       "<tr>\n",
       "  <th>Time:</th>                <td>19:12:46</td>     <th>  Pearson chi2:      </th> <td>5.23e+04</td>\n",
       "</tr>\n",
       "<tr>\n",
       "  <th>No. Iterations:</th>         <td>10</td>        <th>                     </th>     <td> </td>   \n",
       "</tr>\n",
       "<tr>\n",
       "  <th>Covariance Type:</th>     <td>nonrobust</td>    <th>                     </th>     <td> </td>   \n",
       "</tr>\n",
       "</table>\n",
       "<table class=\"simpletable\">\n",
       "<tr>\n",
       "        <td></td>           <th>coef</th>     <th>std err</th>      <th>z</th>      <th>P>|z|</th>  <th>[0.025</th>    <th>0.975]</th>  \n",
       "</tr>\n",
       "<tr>\n",
       "  <th>Intercept</th>     <td>   -2.4122</td> <td>    0.095</td> <td>  -25.295</td> <td> 0.000</td> <td>   -2.599</td> <td>   -2.225</td>\n",
       "</tr>\n",
       "<tr>\n",
       "  <th>numords</th>       <td>    1.0499</td> <td>    0.081</td> <td>   12.910</td> <td> 0.000</td> <td>    0.891</td> <td>    1.209</td>\n",
       "</tr>\n",
       "<tr>\n",
       "  <th>zip_bins_1</th>    <td>   -0.1513</td> <td>    0.152</td> <td>   -0.994</td> <td> 0.320</td> <td>   -0.450</td> <td>    0.147</td>\n",
       "</tr>\n",
       "<tr>\n",
       "  <th>zip_801</th>       <td>    3.2315</td> <td>    0.164</td> <td>   19.748</td> <td> 0.000</td> <td>    2.911</td> <td>    3.552</td>\n",
       "</tr>\n",
       "<tr>\n",
       "  <th>zip_804</th>       <td>    2.9078</td> <td>    0.249</td> <td>   11.698</td> <td> 0.000</td> <td>    2.421</td> <td>    3.395</td>\n",
       "</tr>\n",
       "<tr>\n",
       "  <th>lg_dollars</th>    <td>    0.5966</td> <td>    0.221</td> <td>    2.700</td> <td> 0.007</td> <td>    0.163</td> <td>    1.030</td>\n",
       "</tr>\n",
       "<tr>\n",
       "  <th>last</th>          <td>   -1.5943</td> <td>    0.087</td> <td>  -18.379</td> <td> 0.000</td> <td>   -1.764</td> <td>   -1.424</td>\n",
       "</tr>\n",
       "<tr>\n",
       "  <th>only_ver02</th>    <td>   -1.4257</td> <td>    0.043</td> <td>  -32.900</td> <td> 0.000</td> <td>   -1.511</td> <td>   -1.341</td>\n",
       "</tr>\n",
       "<tr>\n",
       "  <th>from_v1_to_v2</th> <td>   -0.3648</td> <td>    0.044</td> <td>   -8.236</td> <td> 0.000</td> <td>   -0.452</td> <td>   -0.278</td>\n",
       "</tr>\n",
       "<tr>\n",
       "  <th>only_ver01</th>    <td>   -0.6217</td> <td>    0.046</td> <td>  -13.573</td> <td> 0.000</td> <td>   -0.712</td> <td>   -0.532</td>\n",
       "</tr>\n",
       "</table>"
      ],
      "text/plain": [
       "<class 'statsmodels.iolib.summary.Summary'>\n",
       "\"\"\"\n",
       "                 Generalized Linear Model Regression Results                  \n",
       "==============================================================================\n",
       "Dep. Variable:               res1_yes   No. Observations:                52500\n",
       "Model:                            GLM   Df Residuals:                    52491\n",
       "Model Family:                Binomial   Df Model:                            8\n",
       "Link Function:                  logit   Scale:                          1.0000\n",
       "Method:                          IRLS   Log-Likelihood:                -8585.7\n",
       "Date:                Wed, 17 Feb 2021   Deviance:                       17171.\n",
       "Time:                        19:12:46   Pearson chi2:                 5.23e+04\n",
       "No. Iterations:                    10                                         \n",
       "Covariance Type:            nonrobust                                         \n",
       "=================================================================================\n",
       "                    coef    std err          z      P>|z|      [0.025      0.975]\n",
       "---------------------------------------------------------------------------------\n",
       "Intercept        -2.4122      0.095    -25.295      0.000      -2.599      -2.225\n",
       "numords           1.0499      0.081     12.910      0.000       0.891       1.209\n",
       "zip_bins_1       -0.1513      0.152     -0.994      0.320      -0.450       0.147\n",
       "zip_801           3.2315      0.164     19.748      0.000       2.911       3.552\n",
       "zip_804           2.9078      0.249     11.698      0.000       2.421       3.395\n",
       "lg_dollars        0.5966      0.221      2.700      0.007       0.163       1.030\n",
       "last             -1.5943      0.087    -18.379      0.000      -1.764      -1.424\n",
       "only_ver02       -1.4257      0.043    -32.900      0.000      -1.511      -1.341\n",
       "from_v1_to_v2    -0.3648      0.044     -8.236      0.000      -0.452      -0.278\n",
       "only_ver01       -0.6217      0.046    -13.573      0.000      -0.712      -0.532\n",
       "=================================================================================\n",
       "\"\"\""
      ]
     },
     "execution_count": 14,
     "metadata": {},
     "output_type": "execute_result"
    }
   ],
   "source": [
    "lr_mod= smf.glm(\n",
    "    formula=\"res1_yes ~ numords  + zip_bins_1 + zip_801 + zip_804 + lg_dollars + last + only_ver02 + from_v1_to_v2 + only_ver01  \",\n",
    "    family=Binomial(link=logit()),\n",
    "    data=intuit75k[intuit75k['training']==1],\n",
    ")\n",
    "lr_sel = lr_mod.fit()\n",
    "lr_sel.summary()"
   ]
  },
  {
   "cell_type": "code",
   "execution_count": 18,
   "metadata": {},
   "outputs": [],
   "source": [
    "pred_lr = lr_sel.predict(test)\n",
    "\n",
    "test_result['prob_lg'] = pred_lr\n",
    "test_result['pred_lg'] = (pred_lr/2 > breakeven_rate)\n",
    "\n",
    "perc = test_result['pred_lg'].mean()\n",
    "resp = functions.response_rate(test_result[test_result['pred_lg']==True]['res1'], lev='Yes')\n"
   ]
  },
  {
   "cell_type": "code",
   "execution_count": 19,
   "metadata": {},
   "outputs": [
    {
     "name": "stdout",
     "output_type": "stream",
     "text": [
      "By logistic regression model, the number of businesses to mail is 6,260 (29.26%). The response rate for the selected customers is predicted to be 11.36% or 355 buyers. The revenue is equal to $21,339. The expected profit is $12,512. The marginal cost is estimated to be $8,827 with a ROME of 141.76%\n"
     ]
    }
   ],
   "source": [
    "print(f\"\"\"By logistic regression model, {pref_calc_ad(perc, resp)}\"\"\")"
   ]
  },
  {
   "cell_type": "markdown",
   "metadata": {},
   "source": [
    "#### Logistic regression result\n",
    "The expected profit (446,995) is higher than our highest expected profit of logistic regression last time (321k)"
   ]
  },
  {
   "cell_type": "code",
   "execution_count": 20,
   "metadata": {},
   "outputs": [
    {
     "data": {
      "text/plain": [
       "'the number of businesses to mail is 223,334 (29.26%). The response rate for the selected customers is predicted to be 11.36% or 25,376 buyers. The revenue is equal to $761,298. The expected profit is $446,396. The marginal cost is estimated to be $314,901 with a ROME of 141.76%'"
      ]
     },
     "execution_count": 20,
     "metadata": {},
     "output_type": "execute_result"
    }
   ],
   "source": [
    "#last weeks function\n",
    "functions.pref_calc_logit(perc, resp)"
   ]
  },
  {
   "cell_type": "markdown",
   "metadata": {},
   "source": [
    "## 4. Keras Neural Network"
   ]
  },
  {
   "cell_type": "code",
   "execution_count": 21,
   "metadata": {},
   "outputs": [],
   "source": [
    "from keras.layers import Dense\n",
    "from keras.models import Sequential\n",
    "from keras.utils.np_utils import to_categorical\n",
    "from keras.callbacks import EarlyStopping"
   ]
  },
  {
   "cell_type": "code",
   "execution_count": 22,
   "metadata": {},
   "outputs": [],
   "source": [
    "predictors = X_train.copy()\n",
    "target = to_categorical(train['res1_yes'])\n",
    "n_cols = predictors.shape[1]\n",
    "\n",
    "predict_data = X_test.copy()\n",
    "test_label = to_categorical(test['res1_yes'])"
   ]
  },
  {
   "cell_type": "markdown",
   "metadata": {},
   "source": [
    "### Neural Network Model 1 (100 nodes, 6 layers)"
   ]
  },
  {
   "cell_type": "code",
   "execution_count": 23,
   "metadata": {},
   "outputs": [
    {
     "name": "stdout",
     "output_type": "stream",
     "text": [
      "Epoch 1/20\n",
      "1149/1149 [==============================] - 12s 10ms/step - loss: 0.1927 - accuracy: 0.9469 - val_loss: 0.1633 - val_accuracy: 0.9528\n",
      "Epoch 2/20\n",
      "1149/1149 [==============================] - 9s 8ms/step - loss: 0.1684 - accuracy: 0.9513 - val_loss: 0.1634 - val_accuracy: 0.9515\n",
      "Epoch 3/20\n",
      "1149/1149 [==============================] - 10s 8ms/step - loss: 0.1659 - accuracy: 0.9525 - val_loss: 0.1642 - val_accuracy: 0.9528\n"
     ]
    },
    {
     "data": {
      "text/plain": [
       "<tensorflow.python.keras.callbacks.History at 0x7f33a5dee2e0>"
      ]
     },
     "execution_count": 23,
     "metadata": {},
     "output_type": "execute_result"
    }
   ],
   "source": [
    "from numpy.random import seed\n",
    "seed(1234)\n",
    "import tensorflow\n",
    "tensorflow.random.set_seed(122)\n",
    "\n",
    "\n",
    "model = Sequential()\n",
    "model.add(Dense(100, activation='relu', input_shape = (n_cols,)))\n",
    "model.add(Dense(100, activation='relu'))\n",
    "model.add(Dense(100, activation='relu'))\n",
    "model.add(Dense(100, activation='relu'))\n",
    "model.add(Dense(100, activation='relu'))\n",
    "model.add(Dense(2, activation='softmax'))\n",
    "\n",
    "model.compile(optimizer='adam', loss='categorical_crossentropy',\n",
    "              metrics=['accuracy'])\n",
    "\n",
    "early_stopping_monitor = EarlyStopping(patience=2)\n",
    "\n",
    "model.fit(predictors, target, validation_split=0.3, epochs=20,           \n",
    "          callbacks = [early_stopping_monitor])"
   ]
  },
  {
   "cell_type": "code",
   "execution_count": 24,
   "metadata": {},
   "outputs": [
    {
     "data": {
      "text/html": [
       "<div>\n",
       "<style scoped>\n",
       "    .dataframe tbody tr th:only-of-type {\n",
       "        vertical-align: middle;\n",
       "    }\n",
       "\n",
       "    .dataframe tbody tr th {\n",
       "        vertical-align: top;\n",
       "    }\n",
       "\n",
       "    .dataframe thead th {\n",
       "        text-align: right;\n",
       "    }\n",
       "</style>\n",
       "<table border=\"1\" class=\"dataframe\">\n",
       "  <thead>\n",
       "    <tr style=\"text-align: right;\">\n",
       "      <th>res1</th>\n",
       "      <th>Yes</th>\n",
       "      <th>No</th>\n",
       "    </tr>\n",
       "    <tr>\n",
       "      <th>pred_k1</th>\n",
       "      <th></th>\n",
       "      <th></th>\n",
       "    </tr>\n",
       "  </thead>\n",
       "  <tbody>\n",
       "    <tr>\n",
       "      <th>False</th>\n",
       "      <td>419</td>\n",
       "      <td>16693</td>\n",
       "    </tr>\n",
       "    <tr>\n",
       "      <th>True</th>\n",
       "      <td>684</td>\n",
       "      <td>4704</td>\n",
       "    </tr>\n",
       "  </tbody>\n",
       "</table>\n",
       "</div>"
      ],
      "text/plain": [
       "res1     Yes     No\n",
       "pred_k1            \n",
       "False    419  16693\n",
       "True     684   4704"
      ]
     },
     "execution_count": 24,
     "metadata": {},
     "output_type": "execute_result"
    }
   ],
   "source": [
    "predictions_k1 = model.predict(predict_data)\n",
    "probability_true_k1 = predictions_k1[:,1]\n",
    "\n",
    "test_result['prob_k1'] = probability_true_k1\n",
    "test_result['pred_k1'] = probability_true_k1/2 > breakeven_rate\n",
    "\n",
    "perc_nn = test_result['pred_k1'].mean()\n",
    "rep_nn = functions.response_rate(test_result[test_result['pred_k1']==True]['res1'], lev='Yes')\n",
    "\n",
    "conf_nn = pd.crosstab(test_result['pred_k1'], test_result['res1'])\n",
    "conf_nn"
   ]
  },
  {
   "cell_type": "code",
   "execution_count": 25,
   "metadata": {},
   "outputs": [
    {
     "name": "stdout",
     "output_type": "stream",
     "text": [
      "By Keras neural network model 1, with 100 nodes, the number of businesses to mail is 5,123 (23.95%). The response rate for the selected customers is predicted to be 12.69% or 325 buyers. The revenue is equal to $19,514. The expected profit is $12,289. The marginal cost is estimated to be $7,224 with a ROME of 170.1%\n"
     ]
    }
   ],
   "source": [
    "print(f\"\"\"By Keras neural network model 1, with 100 nodes, {pref_calc_ad(perc_nn, rep_nn)}\"\"\")"
   ]
  },
  {
   "cell_type": "markdown",
   "metadata": {},
   "source": [
    "### Neural Network Model 2 (200 nodes, 6 layers)"
   ]
  },
  {
   "cell_type": "code",
   "execution_count": 26,
   "metadata": {},
   "outputs": [
    {
     "name": "stdout",
     "output_type": "stream",
     "text": [
      "Epoch 1/20\n",
      "1149/1149 [==============================] - 11s 9ms/step - loss: 0.1816 - accuracy: 0.9535 - val_loss: 0.1626 - val_accuracy: 0.9528\n",
      "Epoch 2/20\n",
      "1149/1149 [==============================] - 10s 9ms/step - loss: 0.1690 - accuracy: 0.9513 - val_loss: 0.1621 - val_accuracy: 0.9540\n",
      "Epoch 3/20\n",
      "1149/1149 [==============================] - 11s 9ms/step - loss: 0.1660 - accuracy: 0.9532 - val_loss: 0.1636 - val_accuracy: 0.9533\n",
      "Epoch 4/20\n",
      "1149/1149 [==============================] - 13s 12ms/step - loss: 0.1656 - accuracy: 0.9516 - val_loss: 0.1647 - val_accuracy: 0.9535\n"
     ]
    },
    {
     "data": {
      "text/plain": [
       "<tensorflow.python.keras.callbacks.History at 0x7f33a64d6490>"
      ]
     },
     "execution_count": 26,
     "metadata": {},
     "output_type": "execute_result"
    }
   ],
   "source": [
    "from numpy.random import seed\n",
    "seed(122)\n",
    "import tensorflow\n",
    "tensorflow.random.set_seed(122)\n",
    "\n",
    "model = Sequential()\n",
    "model.add(Dense(200, activation='relu', input_shape = (n_cols,)))\n",
    "model.add(Dense(200, activation='relu'))\n",
    "model.add(Dense(200, activation='relu'))\n",
    "model.add(Dense(200, activation='relu'))\n",
    "model.add(Dense(200, activation='relu'))\n",
    "model.add(Dense(2, activation='softmax'))\n",
    "\n",
    "model.compile(optimizer='adam', loss='categorical_crossentropy',\n",
    "              metrics=['accuracy'])\n",
    "\n",
    "early_stopping_monitor = EarlyStopping(patience=2)\n",
    "\n",
    "model.fit(predictors, target, validation_split=0.3, epochs=20,           \n",
    "          callbacks = [early_stopping_monitor])"
   ]
  },
  {
   "cell_type": "code",
   "execution_count": 27,
   "metadata": {},
   "outputs": [
    {
     "data": {
      "text/html": [
       "<div>\n",
       "<style scoped>\n",
       "    .dataframe tbody tr th:only-of-type {\n",
       "        vertical-align: middle;\n",
       "    }\n",
       "\n",
       "    .dataframe tbody tr th {\n",
       "        vertical-align: top;\n",
       "    }\n",
       "\n",
       "    .dataframe thead th {\n",
       "        text-align: right;\n",
       "    }\n",
       "</style>\n",
       "<table border=\"1\" class=\"dataframe\">\n",
       "  <thead>\n",
       "    <tr style=\"text-align: right;\">\n",
       "      <th>res1</th>\n",
       "      <th>Yes</th>\n",
       "      <th>No</th>\n",
       "    </tr>\n",
       "    <tr>\n",
       "      <th>pred_k2</th>\n",
       "      <th></th>\n",
       "      <th></th>\n",
       "    </tr>\n",
       "  </thead>\n",
       "  <tbody>\n",
       "    <tr>\n",
       "      <th>False</th>\n",
       "      <td>252</td>\n",
       "      <td>12884</td>\n",
       "    </tr>\n",
       "    <tr>\n",
       "      <th>True</th>\n",
       "      <td>851</td>\n",
       "      <td>8513</td>\n",
       "    </tr>\n",
       "  </tbody>\n",
       "</table>\n",
       "</div>"
      ],
      "text/plain": [
       "res1     Yes     No\n",
       "pred_k2            \n",
       "False    252  12884\n",
       "True     851   8513"
      ]
     },
     "execution_count": 27,
     "metadata": {},
     "output_type": "execute_result"
    }
   ],
   "source": [
    "predictions_k2 = model.predict(predict_data)\n",
    "probability_true_k2 = predictions_k2[:,1]\n",
    "\n",
    "test_result['prob_k2'] = probability_true_k2\n",
    "test_result['pred_k2'] = probability_true_k2/2 > breakeven_rate\n",
    "\n",
    "\n",
    "perc_nn = test_result['pred_k2'].mean()\n",
    "rep_nn = functions.response_rate(test_result[test_result['pred_k2']==True]['res1'], lev='Yes')\n",
    "\n",
    "conf_nn = pd.crosstab(test_result['pred_k2'], test_result['res1'])\n",
    "conf_nn"
   ]
  },
  {
   "cell_type": "code",
   "execution_count": 28,
   "metadata": {},
   "outputs": [
    {
     "name": "stdout",
     "output_type": "stream",
     "text": [
      "By neural network model 2, with 200 nodes, the number of businesses to mail is 8,904 (41.62%). The response rate for the selected customers is predicted to be 9.09% or 404 buyers. The revenue is equal to $24,278. The expected profit is $11,722. The marginal cost is estimated to be $12,555 with a ROME of 93.36%\n"
     ]
    }
   ],
   "source": [
    "print(f\"\"\"By neural network model 2, with 200 nodes, {pref_calc_ad(perc_nn, rep_nn)}\"\"\")"
   ]
  },
  {
   "cell_type": "markdown",
   "metadata": {},
   "source": [
    "### Neural Network Model 3 (200 nodes, 5 layers)"
   ]
  },
  {
   "cell_type": "code",
   "execution_count": 29,
   "metadata": {},
   "outputs": [
    {
     "name": "stdout",
     "output_type": "stream",
     "text": [
      "Epoch 1/20\n",
      "1149/1149 [==============================] - 9s 7ms/step - loss: 0.1831 - accuracy: 0.9469 - val_loss: 0.1631 - val_accuracy: 0.9539\n",
      "Epoch 2/20\n",
      "1149/1149 [==============================] - 9s 8ms/step - loss: 0.1686 - accuracy: 0.9518 - val_loss: 0.1624 - val_accuracy: 0.9536\n",
      "Epoch 3/20\n",
      "1149/1149 [==============================] - 10s 9ms/step - loss: 0.1658 - accuracy: 0.9532 - val_loss: 0.1638 - val_accuracy: 0.9532\n",
      "Epoch 4/20\n",
      "1149/1149 [==============================] - 11s 9ms/step - loss: 0.1652 - accuracy: 0.9519 - val_loss: 0.1636 - val_accuracy: 0.9535\n"
     ]
    },
    {
     "data": {
      "text/plain": [
       "<tensorflow.python.keras.callbacks.History at 0x7f33a66df490>"
      ]
     },
     "execution_count": 29,
     "metadata": {},
     "output_type": "execute_result"
    }
   ],
   "source": [
    "from numpy.random import seed\n",
    "seed(122)\n",
    "import tensorflow\n",
    "tensorflow.random.set_seed(122)\n",
    "\n",
    "model = Sequential()\n",
    "model.add(Dense(200, activation='relu', input_shape = (n_cols,)))\n",
    "model.add(Dense(200, activation='relu'))\n",
    "model.add(Dense(200, activation='relu'))\n",
    "model.add(Dense(200, activation='relu'))\n",
    "model.add(Dense(2, activation='softmax'))\n",
    "\n",
    "model.compile(optimizer='adam', loss='categorical_crossentropy',\n",
    "              metrics=['accuracy'])\n",
    "\n",
    "early_stopping_monitor = EarlyStopping(patience=2)\n",
    "\n",
    "model.fit(predictors, target, validation_split=0.3, epochs=20,           \n",
    "          callbacks = [early_stopping_monitor])"
   ]
  },
  {
   "cell_type": "code",
   "execution_count": 30,
   "metadata": {},
   "outputs": [
    {
     "data": {
      "text/html": [
       "<div>\n",
       "<style scoped>\n",
       "    .dataframe tbody tr th:only-of-type {\n",
       "        vertical-align: middle;\n",
       "    }\n",
       "\n",
       "    .dataframe tbody tr th {\n",
       "        vertical-align: top;\n",
       "    }\n",
       "\n",
       "    .dataframe thead th {\n",
       "        text-align: right;\n",
       "    }\n",
       "</style>\n",
       "<table border=\"1\" class=\"dataframe\">\n",
       "  <thead>\n",
       "    <tr style=\"text-align: right;\">\n",
       "      <th>res1</th>\n",
       "      <th>Yes</th>\n",
       "      <th>No</th>\n",
       "    </tr>\n",
       "    <tr>\n",
       "      <th>pred_k3</th>\n",
       "      <th></th>\n",
       "      <th></th>\n",
       "    </tr>\n",
       "  </thead>\n",
       "  <tbody>\n",
       "    <tr>\n",
       "      <th>False</th>\n",
       "      <td>286</td>\n",
       "      <td>13848</td>\n",
       "    </tr>\n",
       "    <tr>\n",
       "      <th>True</th>\n",
       "      <td>817</td>\n",
       "      <td>7549</td>\n",
       "    </tr>\n",
       "  </tbody>\n",
       "</table>\n",
       "</div>"
      ],
      "text/plain": [
       "res1     Yes     No\n",
       "pred_k3            \n",
       "False    286  13848\n",
       "True     817   7549"
      ]
     },
     "execution_count": 30,
     "metadata": {},
     "output_type": "execute_result"
    }
   ],
   "source": [
    "predictions_k3 = model.predict(predict_data)\n",
    "probability_true_k3 = predictions_k3[:,1]\n",
    "\n",
    "test_result['prob_k3'] = probability_true_k3\n",
    "test_result['pred_k3'] = probability_true_k3/2 > breakeven_rate\n",
    "\n",
    "\n",
    "perc_nn = test_result['pred_k3'].mean()\n",
    "rep_nn = functions.response_rate(test_result[test_result['pred_k3']==True]['res1'], lev='Yes')\n",
    "\n",
    "conf_nn = pd.crosstab(test_result['pred_k3'], test_result['res1'])\n",
    "conf_nn"
   ]
  },
  {
   "cell_type": "code",
   "execution_count": 73,
   "metadata": {},
   "outputs": [
    {
     "name": "stdout",
     "output_type": "stream",
     "text": [
      "By neural network model 3, with 200 nodes, the number of businesses to mail is 8,006 (37.42%). The response rate for the selected customers is predicted to be 9.67% or 387 buyers. The revenue is equal to $23,222. The expected profit is $11,934. The marginal cost is estimated to be $11,288 with a ROME of 105.72%\n"
     ]
    }
   ],
   "source": [
    "print(f\"\"\"By neural network model 3, with 200 nodes, {pref_calc_ad(perc_nn, rep_nn)}\"\"\")"
   ]
  },
  {
   "cell_type": "markdown",
   "metadata": {},
   "source": [
    "### Neural Network Model 4 (100 nodes, 7 layers)"
   ]
  },
  {
   "cell_type": "code",
   "execution_count": 31,
   "metadata": {},
   "outputs": [
    {
     "name": "stdout",
     "output_type": "stream",
     "text": [
      "Epoch 1/20\n",
      "1149/1149 [==============================] - 9s 7ms/step - loss: 0.1888 - accuracy: 0.9538 - val_loss: 0.1628 - val_accuracy: 0.9528\n",
      "Epoch 2/20\n",
      "1149/1149 [==============================] - 10s 9ms/step - loss: 0.1687 - accuracy: 0.9513 - val_loss: 0.1629 - val_accuracy: 0.9528\n",
      "Epoch 3/20\n",
      "1149/1149 [==============================] - 10s 9ms/step - loss: 0.1664 - accuracy: 0.9515 - val_loss: 0.1640 - val_accuracy: 0.9528\n"
     ]
    },
    {
     "data": {
      "text/plain": [
       "<tensorflow.python.keras.callbacks.History at 0x7f33a69aa220>"
      ]
     },
     "execution_count": 31,
     "metadata": {},
     "output_type": "execute_result"
    }
   ],
   "source": [
    "from numpy.random import seed\n",
    "seed(122)\n",
    "import tensorflow\n",
    "tensorflow.random.set_seed(122)\n",
    "\n",
    "model = Sequential()\n",
    "model.add(Dense(100, activation='relu', input_shape = (n_cols,)))\n",
    "model.add(Dense(100, activation='relu'))\n",
    "model.add(Dense(100, activation='relu'))\n",
    "model.add(Dense(100, activation='relu'))\n",
    "model.add(Dense(100, activation='relu'))\n",
    "model.add(Dense(100, activation='relu'))\n",
    "model.add(Dense(2, activation='softmax'))\n",
    "\n",
    "model.compile(optimizer='adam', loss='categorical_crossentropy',\n",
    "              metrics=['accuracy'])\n",
    "\n",
    "early_stopping_monitor = EarlyStopping(patience=2)\n",
    "\n",
    "model.fit(predictors, target, validation_split=0.3, epochs=20,           \n",
    "          callbacks = [early_stopping_monitor])"
   ]
  },
  {
   "cell_type": "code",
   "execution_count": 32,
   "metadata": {},
   "outputs": [
    {
     "data": {
      "text/html": [
       "<div>\n",
       "<style scoped>\n",
       "    .dataframe tbody tr th:only-of-type {\n",
       "        vertical-align: middle;\n",
       "    }\n",
       "\n",
       "    .dataframe tbody tr th {\n",
       "        vertical-align: top;\n",
       "    }\n",
       "\n",
       "    .dataframe thead th {\n",
       "        text-align: right;\n",
       "    }\n",
       "</style>\n",
       "<table border=\"1\" class=\"dataframe\">\n",
       "  <thead>\n",
       "    <tr style=\"text-align: right;\">\n",
       "      <th>res1</th>\n",
       "      <th>Yes</th>\n",
       "      <th>No</th>\n",
       "    </tr>\n",
       "    <tr>\n",
       "      <th>pred_k4</th>\n",
       "      <th></th>\n",
       "      <th></th>\n",
       "    </tr>\n",
       "  </thead>\n",
       "  <tbody>\n",
       "    <tr>\n",
       "      <th>False</th>\n",
       "      <td>427</td>\n",
       "      <td>16786</td>\n",
       "    </tr>\n",
       "    <tr>\n",
       "      <th>True</th>\n",
       "      <td>676</td>\n",
       "      <td>4611</td>\n",
       "    </tr>\n",
       "  </tbody>\n",
       "</table>\n",
       "</div>"
      ],
      "text/plain": [
       "res1     Yes     No\n",
       "pred_k4            \n",
       "False    427  16786\n",
       "True     676   4611"
      ]
     },
     "execution_count": 32,
     "metadata": {},
     "output_type": "execute_result"
    }
   ],
   "source": [
    "predictions_k4 = model.predict(predict_data)\n",
    "probability_true_k4 = predictions_k4[:,1]\n",
    "\n",
    "test_result['prob_k4'] = probability_true_k4\n",
    "test_result['pred_k4'] = probability_true_k4/2 > breakeven_rate\n",
    "\n",
    "\n",
    "perc_nn = test_result['pred_k4'].mean()\n",
    "rep_nn = functions.response_rate(test_result[test_result['pred_k4']==True]['res1'], lev='Yes')\n",
    "\n",
    "conf_nn = pd.crosstab(test_result['pred_k4'], test_result['res1'])\n",
    "conf_nn"
   ]
  },
  {
   "cell_type": "code",
   "execution_count": 33,
   "metadata": {},
   "outputs": [
    {
     "name": "stdout",
     "output_type": "stream",
     "text": [
      "By neural network model 4, with 100 nodes, the number of businesses to mail is 5,027 (23.5%). The response rate for the selected customers is predicted to be 12.79% or 321 buyers. The revenue is equal to $19,285. The expected profit is $12,196. The marginal cost is estimated to be $7,089 with a ROME of 172.04%\n"
     ]
    }
   ],
   "source": [
    "print(f\"\"\"By neural network model 4, with 100 nodes, {pref_calc_ad(perc_nn, rep_nn)}\"\"\")"
   ]
  },
  {
   "cell_type": "markdown",
   "metadata": {},
   "source": [
    "### Neural Network Model 5 (200 nodes, 4 layers)"
   ]
  },
  {
   "cell_type": "code",
   "execution_count": 34,
   "metadata": {},
   "outputs": [
    {
     "name": "stdout",
     "output_type": "stream",
     "text": [
      "Epoch 1/20\n",
      "1149/1149 [==============================] - 8s 7ms/step - loss: 0.1788 - accuracy: 0.9533 - val_loss: 0.1635 - val_accuracy: 0.9533\n",
      "Epoch 2/20\n",
      "1149/1149 [==============================] - 8s 7ms/step - loss: 0.1683 - accuracy: 0.9515 - val_loss: 0.1623 - val_accuracy: 0.9530\n",
      "Epoch 3/20\n",
      "1149/1149 [==============================] - 8s 7ms/step - loss: 0.1653 - accuracy: 0.9530 - val_loss: 0.1636 - val_accuracy: 0.9533\n",
      "Epoch 4/20\n",
      "1149/1149 [==============================] - 9s 8ms/step - loss: 0.1650 - accuracy: 0.9519 - val_loss: 0.1630 - val_accuracy: 0.9543\n"
     ]
    },
    {
     "data": {
      "text/plain": [
       "<tensorflow.python.keras.callbacks.History at 0x7f33a6846400>"
      ]
     },
     "execution_count": 34,
     "metadata": {},
     "output_type": "execute_result"
    }
   ],
   "source": [
    "from numpy.random import seed\n",
    "seed(122)\n",
    "import tensorflow\n",
    "tensorflow.random.set_seed(122)\n",
    "\n",
    "model = Sequential()\n",
    "model.add(Dense(200, activation='relu', input_shape = (n_cols,)))\n",
    "model.add(Dense(200, activation='relu'))\n",
    "model.add(Dense(200, activation='relu'))\n",
    "model.add(Dense(2, activation='softmax'))\n",
    "\n",
    "model.compile(optimizer='adam', loss='categorical_crossentropy',\n",
    "              metrics=['accuracy'])\n",
    "\n",
    "early_stopping_monitor = EarlyStopping(patience=2)\n",
    "\n",
    "model.fit(predictors, target, validation_split=0.3, epochs=20,           \n",
    "          callbacks = [early_stopping_monitor])"
   ]
  },
  {
   "cell_type": "code",
   "execution_count": 35,
   "metadata": {},
   "outputs": [
    {
     "data": {
      "text/html": [
       "<div>\n",
       "<style scoped>\n",
       "    .dataframe tbody tr th:only-of-type {\n",
       "        vertical-align: middle;\n",
       "    }\n",
       "\n",
       "    .dataframe tbody tr th {\n",
       "        vertical-align: top;\n",
       "    }\n",
       "\n",
       "    .dataframe thead th {\n",
       "        text-align: right;\n",
       "    }\n",
       "</style>\n",
       "<table border=\"1\" class=\"dataframe\">\n",
       "  <thead>\n",
       "    <tr style=\"text-align: right;\">\n",
       "      <th>res1</th>\n",
       "      <th>Yes</th>\n",
       "      <th>No</th>\n",
       "    </tr>\n",
       "    <tr>\n",
       "      <th>pred_k5</th>\n",
       "      <th></th>\n",
       "      <th></th>\n",
       "    </tr>\n",
       "  </thead>\n",
       "  <tbody>\n",
       "    <tr>\n",
       "      <th>False</th>\n",
       "      <td>300</td>\n",
       "      <td>14269</td>\n",
       "    </tr>\n",
       "    <tr>\n",
       "      <th>True</th>\n",
       "      <td>803</td>\n",
       "      <td>7128</td>\n",
       "    </tr>\n",
       "  </tbody>\n",
       "</table>\n",
       "</div>"
      ],
      "text/plain": [
       "res1     Yes     No\n",
       "pred_k5            \n",
       "False    300  14269\n",
       "True     803   7128"
      ]
     },
     "execution_count": 35,
     "metadata": {},
     "output_type": "execute_result"
    }
   ],
   "source": [
    "predictions_k5 = model.predict(predict_data)\n",
    "probability_true_k5 = predictions_k5[:,1]\n",
    "\n",
    "test_result['prob_k5'] = probability_true_k5\n",
    "test_result['pred_k5'] = probability_true_k5/2 > breakeven_rate\n",
    "\n",
    "\n",
    "perc_nn = test_result['pred_k5'].mean()\n",
    "rep_nn = functions.response_rate(test_result[test_result['pred_k5']==True]['res1'], lev='Yes')\n",
    "\n",
    "conf_nn = pd.crosstab(test_result['pred_k5'], test_result['res1'])\n",
    "conf_nn"
   ]
  },
  {
   "cell_type": "code",
   "execution_count": 36,
   "metadata": {},
   "outputs": [
    {
     "name": "stdout",
     "output_type": "stream",
     "text": [
      "By neural network model 5, with 100 nodes, the number of businesses to mail is 7,542 (35.25%). The response rate for the selected customers is predicted to be 10.12% or 381 buyers. The revenue is equal to $22,909. The expected profit is $12,274. The marginal cost is estimated to be $10,634 with a ROME of 115.42%\n"
     ]
    }
   ],
   "source": [
    "print(f\"\"\"By neural network model 5, with 100 nodes, {pref_calc_ad(perc_nn, rep_nn)}\"\"\")"
   ]
  },
  {
   "cell_type": "markdown",
   "metadata": {},
   "source": [
    "## 5. MLP Neural Network"
   ]
  },
  {
   "cell_type": "code",
   "execution_count": 37,
   "metadata": {},
   "outputs": [],
   "source": [
    "from sklearn.neural_network import MLPClassifier\n",
    "from sklearn.model_selection import GridSearchCV\n",
    "from sklearn.inspection import permutation_importance\n"
   ]
  },
  {
   "cell_type": "markdown",
   "metadata": {},
   "source": [
    "#### MLP Model 1: hlsize = (1,), alpha = 0.01"
   ]
  },
  {
   "cell_type": "code",
   "execution_count": 38,
   "metadata": {},
   "outputs": [],
   "source": [
    "clf_m1 = MLPClassifier(activation = \"tanh\",\n",
    "                       solver = \"lbfgs\",\n",
    "                       alpha = 0.01,\n",
    "                       hidden_layer_sizes = (1,),\n",
    "                       random_state = 1234,\n",
    "                       max_iter = 1000).fit(X_train, y_train)"
   ]
  },
  {
   "cell_type": "code",
   "execution_count": 39,
   "metadata": {},
   "outputs": [
    {
     "data": {
      "text/html": [
       "<div>\n",
       "<style scoped>\n",
       "    .dataframe tbody tr th:only-of-type {\n",
       "        vertical-align: middle;\n",
       "    }\n",
       "\n",
       "    .dataframe tbody tr th {\n",
       "        vertical-align: top;\n",
       "    }\n",
       "\n",
       "    .dataframe thead th {\n",
       "        text-align: right;\n",
       "    }\n",
       "</style>\n",
       "<table border=\"1\" class=\"dataframe\">\n",
       "  <thead>\n",
       "    <tr style=\"text-align: right;\">\n",
       "      <th>res1</th>\n",
       "      <th>Yes</th>\n",
       "      <th>No</th>\n",
       "    </tr>\n",
       "    <tr>\n",
       "      <th>pred_m1</th>\n",
       "      <th></th>\n",
       "      <th></th>\n",
       "    </tr>\n",
       "  </thead>\n",
       "  <tbody>\n",
       "    <tr>\n",
       "      <th>False</th>\n",
       "      <td>373</td>\n",
       "      <td>15915</td>\n",
       "    </tr>\n",
       "    <tr>\n",
       "      <th>True</th>\n",
       "      <td>730</td>\n",
       "      <td>5482</td>\n",
       "    </tr>\n",
       "  </tbody>\n",
       "</table>\n",
       "</div>"
      ],
      "text/plain": [
       "res1     Yes     No\n",
       "pred_m1            \n",
       "False    373  15915\n",
       "True     730   5482"
      ]
     },
     "execution_count": 39,
     "metadata": {},
     "output_type": "execute_result"
    }
   ],
   "source": [
    "test_result['prob_m1'] = clf_m1.predict_proba(X_test)[:,1]\n",
    "test_result['pred_m1'] = test_result['prob_m1']/2 > breakeven_rate\n",
    "\n",
    "perc_mlp = test_result['pred_m1'].mean()\n",
    "rep_mlp = functions.response_rate(test_result[test_result['pred_m1']==True]['res1'], lev='Yes')\n",
    "\n",
    "conf_mlp = pd.crosstab(test_result['pred_m1'], test_result['res1'])\n",
    "conf_mlp"
   ]
  },
  {
   "cell_type": "code",
   "execution_count": 40,
   "metadata": {},
   "outputs": [
    {
     "name": "stdout",
     "output_type": "stream",
     "text": [
      "With 1-node MLP model: the number of businesses to mail is 5,907 (27.61%). The response rate for the selected customers is predicted to be 11.75% or 347 buyers. The revenue is equal to $20,826. The expected profit is $12,496. The marginal cost is estimated to be $8,329 with a ROME of 150.03%\n"
     ]
    }
   ],
   "source": [
    "print(f'''With 1-node MLP model: {pref_calc_ad(perc_mlp, rep_mlp)}''')"
   ]
  },
  {
   "cell_type": "markdown",
   "metadata": {},
   "source": [
    "#### MLP Model 2: hlsize = (2,), alpha = 0.01"
   ]
  },
  {
   "cell_type": "code",
   "execution_count": 41,
   "metadata": {},
   "outputs": [],
   "source": [
    "clf_m2 = MLPClassifier(activation = \"tanh\",\n",
    "                       solver = \"lbfgs\",\n",
    "                       alpha = 0.01,\n",
    "                       hidden_layer_sizes = (2,),\n",
    "                       random_state = 1234,\n",
    "                       max_iter = 1000).fit(X_train, y_train)"
   ]
  },
  {
   "cell_type": "code",
   "execution_count": 42,
   "metadata": {},
   "outputs": [
    {
     "data": {
      "text/html": [
       "<div>\n",
       "<style scoped>\n",
       "    .dataframe tbody tr th:only-of-type {\n",
       "        vertical-align: middle;\n",
       "    }\n",
       "\n",
       "    .dataframe tbody tr th {\n",
       "        vertical-align: top;\n",
       "    }\n",
       "\n",
       "    .dataframe thead th {\n",
       "        text-align: right;\n",
       "    }\n",
       "</style>\n",
       "<table border=\"1\" class=\"dataframe\">\n",
       "  <thead>\n",
       "    <tr style=\"text-align: right;\">\n",
       "      <th>res1</th>\n",
       "      <th>Yes</th>\n",
       "      <th>No</th>\n",
       "    </tr>\n",
       "    <tr>\n",
       "      <th>pred_m2</th>\n",
       "      <th></th>\n",
       "      <th></th>\n",
       "    </tr>\n",
       "  </thead>\n",
       "  <tbody>\n",
       "    <tr>\n",
       "      <th>False</th>\n",
       "      <td>355</td>\n",
       "      <td>15481</td>\n",
       "    </tr>\n",
       "    <tr>\n",
       "      <th>True</th>\n",
       "      <td>748</td>\n",
       "      <td>5916</td>\n",
       "    </tr>\n",
       "  </tbody>\n",
       "</table>\n",
       "</div>"
      ],
      "text/plain": [
       "res1     Yes     No\n",
       "pred_m2            \n",
       "False    355  15481\n",
       "True     748   5916"
      ]
     },
     "execution_count": 42,
     "metadata": {},
     "output_type": "execute_result"
    }
   ],
   "source": [
    "test_result['prob_m2'] = clf_m2.predict_proba(X_test)[:,1]\n",
    "test_result['pred_m2'] = test_result['prob_m2']/2 > breakeven_rate\n",
    "\n",
    "perc_mlp = test_result['pred_m2'].mean()\n",
    "rep_mlp = functions.response_rate(test_result[test_result['pred_m2']==True]['res1'], lev='Yes')\n",
    "\n",
    "conf_mlp = pd.crosstab(test_result['pred_m2'], test_result['res1'])\n",
    "conf_mlp"
   ]
  },
  {
   "cell_type": "code",
   "execution_count": 43,
   "metadata": {},
   "outputs": [
    {
     "name": "stdout",
     "output_type": "stream",
     "text": [
      "With 2 node and 2 hidden layers' MLP model: the number of businesses to mail is 6,337 (29.62%). The response rate for the selected customers is predicted to be 11.22% or 355 buyers. The revenue is equal to $21,339. The expected profit is $12,404. The marginal cost is estimated to be $8,935 with a ROME of 138.82%\n"
     ]
    }
   ],
   "source": [
    "print(f'''With 2 node and 2 hidden layers' MLP model: {pref_calc_ad(perc_mlp, rep_mlp)}''')"
   ]
  },
  {
   "cell_type": "markdown",
   "metadata": {},
   "source": [
    "#### MLP Model3: Grid Search"
   ]
  },
  {
   "cell_type": "code",
   "execution_count": 44,
   "metadata": {},
   "outputs": [
    {
     "name": "stdout",
     "output_type": "stream",
     "text": [
      "Fitting 5 folds for each of 24 candidates, totalling 120 fits\n"
     ]
    },
    {
     "data": {
      "text/plain": [
       "GridSearchCV(cv=5,\n",
       "             estimator=MLPClassifier(activation='tanh', alpha=0.01,\n",
       "                                     hidden_layer_sizes=(1,), max_iter=1000,\n",
       "                                     random_state=1234, solver='lbfgs'),\n",
       "             n_jobs=4,\n",
       "             param_grid={'alpha': [0.001, 0.01, 0.05],\n",
       "                         'hidden_layer_sizes': [(1,), (2,), (3,), (4,), (1, 1),\n",
       "                                                (2, 2), (3, 3), (4, 4)]},\n",
       "             refit='AUC', scoring={'AUC': 'roc_auc'}, verbose=5)"
      ]
     },
     "execution_count": 44,
     "metadata": {},
     "output_type": "execute_result"
    }
   ],
   "source": [
    "mlp = MLPClassifier(activation=\"tanh\",\n",
    "                       solver=\"lbfgs\",\n",
    "                       alpha=0.01,\n",
    "                       hidden_layer_sizes=(1,),\n",
    "                       random_state=1234,\n",
    "                       max_iter=1000,\n",
    "                      )#.fit(X_train, y_train)\n",
    "\n",
    "nr_hnodes = range(1, 5)\n",
    "hls = list(zip(nr_hnodes)) + list(zip(nr_hnodes, nr_hnodes))\n",
    "\n",
    "param_grid_mlp = {\"hidden_layer_sizes\": hls, \n",
    "                  \"alpha\": [0.001, 0.01, 0.05]}\n",
    "\n",
    "scoring = {\"AUC\": \"roc_auc\"}\n",
    "\n",
    "clf_cv = GridSearchCV(mlp, \n",
    "                      param_grid_mlp, \n",
    "                      scoring=scoring, \n",
    "                      cv=5, \n",
    "                      n_jobs=4, \n",
    "                      refit=\"AUC\", \n",
    "                      verbose=5)\n",
    "\n",
    "clf_cv.fit(X_train, y_train)"
   ]
  },
  {
   "cell_type": "code",
   "execution_count": 45,
   "metadata": {},
   "outputs": [
    {
     "name": "stdout",
     "output_type": "stream",
     "text": [
      "Best parameters found:  {'alpha': 0.01, 'hidden_layer_sizes': (2,)}\n",
      "Best AUC found:  0.7701917499006051\n"
     ]
    },
    {
     "data": {
      "image/png": "[encoded data removed]",
      "text/plain": [
       "<Figure size 432x288 with 1 Axes>"
      ]
     },
     "metadata": {
      "needs_background": "light"
     },
     "output_type": "display_data"
    }
   ],
   "source": [
    "def importance(clf, X, y):\n",
    "    imp = permutation_importance(clf, X, y, scoring='roc_auc', n_repeats=10, random_state=1234)\n",
    "    \n",
    "    data = pd.DataFrame(imp.importances.T)\n",
    "    data.columns = train_cols\n",
    "    fig = sns.barplot(x=\"variable\", y='value', color='slateblue', data=pd.melt(data))\n",
    "    fig.set_xticklabels(fig.get_xticklabels(), rotation=75)\n",
    "    fig.set(title ='Permutation Importance')\n",
    "    \n",
    "print(\"Best parameters found: \", clf_cv.best_params_)\n",
    "print(\"Best AUC found: \", clf_cv.best_score_)\n",
    "\n",
    "importance(clf_cv, X_train, y_train)"
   ]
  },
  {
   "cell_type": "code",
   "execution_count": 46,
   "metadata": {},
   "outputs": [
    {
     "data": {
      "text/html": [
       "<div>\n",
       "<style scoped>\n",
       "    .dataframe tbody tr th:only-of-type {\n",
       "        vertical-align: middle;\n",
       "    }\n",
       "\n",
       "    .dataframe tbody tr th {\n",
       "        vertical-align: top;\n",
       "    }\n",
       "\n",
       "    .dataframe thead th {\n",
       "        text-align: right;\n",
       "    }\n",
       "</style>\n",
       "<table border=\"1\" class=\"dataframe\">\n",
       "  <thead>\n",
       "    <tr style=\"text-align: right;\">\n",
       "      <th>res1</th>\n",
       "      <th>Yes</th>\n",
       "      <th>No</th>\n",
       "    </tr>\n",
       "    <tr>\n",
       "      <th>pred_m3</th>\n",
       "      <th></th>\n",
       "      <th></th>\n",
       "    </tr>\n",
       "  </thead>\n",
       "  <tbody>\n",
       "    <tr>\n",
       "      <th>False</th>\n",
       "      <td>355</td>\n",
       "      <td>15481</td>\n",
       "    </tr>\n",
       "    <tr>\n",
       "      <th>True</th>\n",
       "      <td>748</td>\n",
       "      <td>5916</td>\n",
       "    </tr>\n",
       "  </tbody>\n",
       "</table>\n",
       "</div>"
      ],
      "text/plain": [
       "res1     Yes     No\n",
       "pred_m3            \n",
       "False    355  15481\n",
       "True     748   5916"
      ]
     },
     "execution_count": 46,
     "metadata": {},
     "output_type": "execute_result"
    }
   ],
   "source": [
    "pred_mlp = clf_cv.predict_proba(X_test)\n",
    "\n",
    "test_result['prob_m3'] = pred_mlp[:,1]\n",
    "test_result['pred_m3'] = test_result['prob_m3']/2 > breakeven_rate\n",
    "\n",
    "perc_mlp = test_result['pred_m3'].mean()\n",
    "rep_mlp = functions.response_rate(test_result[test_result['pred_m3']==True]['res1'], lev='Yes')\n",
    "\n",
    "conf_mlp = pd.crosstab(test_result['pred_m3'], test_result['res1'])\n",
    "conf_mlp"
   ]
  },
  {
   "cell_type": "code",
   "execution_count": 47,
   "metadata": {},
   "outputs": [
    {
     "name": "stdout",
     "output_type": "stream",
     "text": [
      "With 2 node and 2 hidden layers' MLP model: the number of businesses to mail is 6,337 (29.62%). The response rate for the selected customers is predicted to be 11.22% or 355 buyers. The revenue is equal to $21,339. The expected profit is $12,404. The marginal cost is estimated to be $8,935 with a ROME of 138.82%\n"
     ]
    }
   ],
   "source": [
    "print(f'''With 2 node and 2 hidden layers' MLP model: {pref_calc_ad(perc_mlp, rep_mlp)}''')"
   ]
  },
  {
   "cell_type": "code",
   "execution_count": 52,
   "metadata": {},
   "outputs": [],
   "source": [
    "#test_result"
   ]
  },
  {
   "cell_type": "markdown",
   "metadata": {},
   "source": [
    "## 6. XGBoost Classifier"
   ]
  },
  {
   "cell_type": "markdown",
   "metadata": {},
   "source": [
    "### Untuned XGBoost"
   ]
  },
  {
   "cell_type": "code",
   "execution_count": 49,
   "metadata": {},
   "outputs": [
    {
     "name": "stderr",
     "output_type": "stream",
     "text": [
      "/usr/local/lib/python3.8/dist-packages/xgboost/sklearn.py:888: UserWarning: The use of label encoder in XGBClassifier is deprecated and will be removed in a future release. To remove this warning, do the following: 1) Pass option use_label_encoder=False when constructing XGBClassifier object; and 2) Encode your labels (y) as integers starting with 0, i.e. 0, 1, 2, ..., [num_class - 1].\n",
      "  warnings.warn(label_encoder_deprecation_msg, UserWarning)\n"
     ]
    },
    {
     "name": "stdout",
     "output_type": "stream",
     "text": [
      "[19:29:23] WARNING: ../src/learner.cc:1061: Starting in XGBoost 1.3.0, the default evaluation metric used with the objective 'binary:logistic' was changed from 'error' to 'logloss'. Explicitly set eval_metric if you'd like to restore the old behavior.\n"
     ]
    }
   ],
   "source": [
    "import xgboost as xgb\n",
    "\n",
    "xg_cl_0 = xgb.XGBClassifier(objective='binary:logistic',\n",
    "                          n_estimators=10, seed=122)\n",
    "\n",
    "xg_cl_0.fit(Xnon_train, y_train)\n",
    "preds_0 = xg_cl_0.predict_proba(Xnon_test)\n",
    "#accuracy = float(np.sum(preds==y_test))/y_test.shape[0]\n",
    "#print(\"accuracy: %f\" % (accuracy))"
   ]
  },
  {
   "cell_type": "code",
   "execution_count": 50,
   "metadata": {},
   "outputs": [
    {
     "data": {
      "text/html": [
       "<div>\n",
       "<style scoped>\n",
       "    .dataframe tbody tr th:only-of-type {\n",
       "        vertical-align: middle;\n",
       "    }\n",
       "\n",
       "    .dataframe tbody tr th {\n",
       "        vertical-align: top;\n",
       "    }\n",
       "\n",
       "    .dataframe thead th {\n",
       "        text-align: right;\n",
       "    }\n",
       "</style>\n",
       "<table border=\"1\" class=\"dataframe\">\n",
       "  <thead>\n",
       "    <tr style=\"text-align: right;\">\n",
       "      <th>res1</th>\n",
       "      <th>Yes</th>\n",
       "      <th>No</th>\n",
       "    </tr>\n",
       "    <tr>\n",
       "      <th>pred_xgb1</th>\n",
       "      <th></th>\n",
       "      <th></th>\n",
       "    </tr>\n",
       "  </thead>\n",
       "  <tbody>\n",
       "    <tr>\n",
       "      <th>False</th>\n",
       "      <td>216</td>\n",
       "      <td>11071</td>\n",
       "    </tr>\n",
       "    <tr>\n",
       "      <th>True</th>\n",
       "      <td>887</td>\n",
       "      <td>10326</td>\n",
       "    </tr>\n",
       "  </tbody>\n",
       "</table>\n",
       "</div>"
      ],
      "text/plain": [
       "res1       Yes     No\n",
       "pred_xgb1            \n",
       "False      216  11071\n",
       "True       887  10326"
      ]
     },
     "execution_count": 50,
     "metadata": {},
     "output_type": "execute_result"
    }
   ],
   "source": [
    "test_result['prob_xgb1'] = preds_0[:,1]\n",
    "test_result['pred_xgb1'] = test_result['prob_xgb1']/2 > breakeven_rate\n",
    "\n",
    "perc_nn_0 = test_result['pred_xgb1'].mean()\n",
    "rep_nn_0 = functions.response_rate(test_result[test_result['pred_xgb1']==True]['res1'], lev='Yes')\n",
    "\n",
    "conf_nn = pd.crosstab(test_result['pred_xgb1'], test_result['res1'])\n",
    "conf_nn"
   ]
  },
  {
   "cell_type": "code",
   "execution_count": 51,
   "metadata": {},
   "outputs": [
    {
     "name": "stdout",
     "output_type": "stream",
     "text": [
      "By untuned XGBoost model, the number of businesses to mail is 10,663 (49.84%). The response rate for the selected customers is predicted to be 7.91% or 421 buyers. The revenue is equal to $25,305. The expected profit is $10,270. The marginal cost is estimated to be $15,035 with a ROME of 68.31%\n"
     ]
    }
   ],
   "source": [
    "print(f\"\"\"By untuned XGBoost model, {pref_calc_ad(perc_nn_0, rep_nn_0)}\"\"\")"
   ]
  },
  {
   "cell_type": "markdown",
   "metadata": {},
   "source": [
    "### Tuning using GridSearchCV"
   ]
  },
  {
   "cell_type": "code",
   "execution_count": 53,
   "metadata": {},
   "outputs": [
    {
     "name": "stdout",
     "output_type": "stream",
     "text": [
      "Fitting 4 folds for each of 144 candidates, totalling 576 fits\n",
      "Best parameters found:  {'colsample_bytree': 1, 'eta': 0.1, 'max_depth': 2, 'n_estimators': 100, 'objective': 'reg:logistic'}\n",
      "Best ROC_AUC found:  0.7686777885912552\n"
     ]
    }
   ],
   "source": [
    "from sklearn.model_selection import GridSearchCV\n",
    "\n",
    "# Create the parameter grid: gbm_param_grid\n",
    "gbm_param_grid = {\n",
    "    \"objective\":['reg:logistic'],\n",
    "    'colsample_bytree': [0.3, 0.7, 1],\n",
    "    'n_estimators': [50, 100, 150],\n",
    "    'max_depth': [2, 5, 7, 10],\n",
    "    'eta':[0.01,0.1,0.5,0.9]\n",
    "}\n",
    "\n",
    "# Instantiate the regressor: gbm\n",
    "gbm = xgb.XGBClassifier(use_label_encoder = False)\n",
    "\n",
    "# Perform grid search: grid_mse\n",
    "grid_auc = GridSearchCV(estimator=gbm, \n",
    "                        param_grid=gbm_param_grid, \n",
    "                        scoring='roc_auc', cv=4, verbose=1)\n",
    "\n",
    "\n",
    "# Fit grid_mse to the data\n",
    "grid_auc.fit(Xnon_train, y_train)\n",
    "\n",
    "# Print the best parameters and lowest RMSE\n",
    "print(\"Best parameters found: \", grid_auc.best_params_)\n",
    "print(\"Best ROC_AUC found: \", grid_auc.best_score_)"
   ]
  },
  {
   "cell_type": "code",
   "execution_count": 60,
   "metadata": {},
   "outputs": [
    {
     "data": {
      "text/html": [
       "<div>\n",
       "<style scoped>\n",
       "    .dataframe tbody tr th:only-of-type {\n",
       "        vertical-align: middle;\n",
       "    }\n",
       "\n",
       "    .dataframe tbody tr th {\n",
       "        vertical-align: top;\n",
       "    }\n",
       "\n",
       "    .dataframe thead th {\n",
       "        text-align: right;\n",
       "    }\n",
       "</style>\n",
       "<table border=\"1\" class=\"dataframe\">\n",
       "  <thead>\n",
       "    <tr style=\"text-align: right;\">\n",
       "      <th>res1</th>\n",
       "      <th>Yes</th>\n",
       "      <th>No</th>\n",
       "    </tr>\n",
       "    <tr>\n",
       "      <th>pred_xgb2</th>\n",
       "      <th></th>\n",
       "      <th></th>\n",
       "    </tr>\n",
       "  </thead>\n",
       "  <tbody>\n",
       "    <tr>\n",
       "      <th>False</th>\n",
       "      <td>365</td>\n",
       "      <td>15896</td>\n",
       "    </tr>\n",
       "    <tr>\n",
       "      <th>True</th>\n",
       "      <td>738</td>\n",
       "      <td>5501</td>\n",
       "    </tr>\n",
       "  </tbody>\n",
       "</table>\n",
       "</div>"
      ],
      "text/plain": [
       "res1       Yes     No\n",
       "pred_xgb2            \n",
       "False      365  15896\n",
       "True       738   5501"
      ]
     },
     "execution_count": 60,
     "metadata": {},
     "output_type": "execute_result"
    }
   ],
   "source": [
    "preds_1 = grid_auc.predict_proba(Xnon_test)\n",
    "\n",
    "\n",
    "test_result['prob_xgb2'] = preds_1[:,1]\n",
    "test_result['pred_xgb2'] = test_result['prob_xgb2']/2 > breakeven_rate\n",
    "\n",
    "perc_xgb = test_result['pred_xgb2'].mean()\n",
    "rep_xgb = functions.response_rate(test_result[test_result['pred_xgb2']==True]['res1'], lev='Yes')\n",
    "\n",
    "conf_nn = pd.crosstab(test_result['pred_xgb2'], test_result['res1'])\n",
    "conf_nn"
   ]
  },
  {
   "cell_type": "code",
   "execution_count": 61,
   "metadata": {},
   "outputs": [
    {
     "name": "stdout",
     "output_type": "stream",
     "text": [
      "By tuned XGBoost model, the number of businesses to mail is 5,933 (27.73%). The response rate for the selected customers is predicted to be 11.83% or 350 buyers. The revenue is equal to $21,054. The expected profit is $12,688. The marginal cost is estimated to be $8,365 with a ROME of 151.68%\n"
     ]
    }
   ],
   "source": [
    "print(f\"\"\"By tuned XGBoost model, {pref_calc_ad(perc_xgb, rep_xgb)}\"\"\")"
   ]
  },
  {
   "cell_type": "code",
   "execution_count": null,
   "metadata": {},
   "outputs": [],
   "source": []
  },
  {
   "cell_type": "markdown",
   "metadata": {},
   "source": [
    "## 7. Random forest classifier"
   ]
  },
  {
   "cell_type": "code",
   "execution_count": 62,
   "metadata": {},
   "outputs": [],
   "source": [
    "from sklearn.ensemble import RandomForestClassifier\n",
    "from sklearn.model_selection import RandomizedSearchCV\n",
    "\n",
    "n_estimators = [int(x) for x in np.linspace(start = 200, stop = 2000, num = 10)]\n",
    "# Number of features to consider at every split\n",
    "max_features = ['auto', 'sqrt']\n",
    "# Maximum number of levels in tree\n",
    "max_depth = [int(x) for x in np.linspace(10, 110, num = 11)]\n",
    "max_depth.append(None)\n",
    "# Minimum number of samples required to split a node\n",
    "min_samples_split = [2, 5, 10]\n",
    "# Minimum number of samples required at each leaf node\n",
    "min_samples_leaf = [1, 2, 4]\n",
    "# Method of selecting samples for training each tree\n",
    "bootstrap = [True, False]\n",
    "\n"
   ]
  },
  {
   "cell_type": "code",
   "execution_count": 63,
   "metadata": {},
   "outputs": [
    {
     "name": "stdout",
     "output_type": "stream",
     "text": [
      "Fitting 4 folds for each of 144 candidates, totalling 576 fits\n",
      "Best parameters found:  {'bootstrap': True, 'max_depth': 5, 'max_features': 'auto', 'min_samples_leaf': 4, 'min_samples_split': 2, 'n_estimators': 50}\n",
      "Best ROC_AUC found:  0.7660988482161141\n"
     ]
    }
   ],
   "source": [
    "from sklearn.ensemble import RandomForestClassifier\n",
    "\n",
    "rfc_param_grid = {\n",
    "    \"max_features\" : ['auto', 'sqrt'],\n",
    "    'n_estimators': [50, 100],\n",
    "    'max_depth': [2, 5, 10],\n",
    "    'min_samples_split': [2, 5],\n",
    "    'min_samples_leaf': [1, 2, 4],\n",
    "    'bootstrap': [True, False]\n",
    "\n",
    "}\n",
    "\n",
    "\n",
    "# Instantiate the regressor: gbm\n",
    "rfc = RandomForestClassifier(random_state=122)\n",
    "\n",
    "# Perform grid search: grid_mse\n",
    "grid_auc_rfc = GridSearchCV(estimator=rfc, \n",
    "                        param_grid=rfc_param_grid, \n",
    "                        scoring='roc_auc', cv=4, verbose=1)\n",
    "\n",
    "\n",
    "# Fit grid_mse to the data\n",
    "grid_auc_rfc.fit(Xnon_train, y_train)\n",
    "\n",
    "# Print the best parameters and lowest RMSE\n",
    "print(\"Best parameters found: \", grid_auc_rfc.best_params_)\n",
    "print(\"Best ROC_AUC found: \", grid_auc_rfc.best_score_)"
   ]
  },
  {
   "cell_type": "code",
   "execution_count": 65,
   "metadata": {},
   "outputs": [
    {
     "data": {
      "text/html": [
       "<div>\n",
       "<style scoped>\n",
       "    .dataframe tbody tr th:only-of-type {\n",
       "        vertical-align: middle;\n",
       "    }\n",
       "\n",
       "    .dataframe tbody tr th {\n",
       "        vertical-align: top;\n",
       "    }\n",
       "\n",
       "    .dataframe thead th {\n",
       "        text-align: right;\n",
       "    }\n",
       "</style>\n",
       "<table border=\"1\" class=\"dataframe\">\n",
       "  <thead>\n",
       "    <tr style=\"text-align: right;\">\n",
       "      <th>res1</th>\n",
       "      <th>Yes</th>\n",
       "      <th>No</th>\n",
       "    </tr>\n",
       "    <tr>\n",
       "      <th>pred_rfc1</th>\n",
       "      <th></th>\n",
       "      <th></th>\n",
       "    </tr>\n",
       "  </thead>\n",
       "  <tbody>\n",
       "    <tr>\n",
       "      <th>False</th>\n",
       "      <td>356</td>\n",
       "      <td>15289</td>\n",
       "    </tr>\n",
       "    <tr>\n",
       "      <th>True</th>\n",
       "      <td>747</td>\n",
       "      <td>6108</td>\n",
       "    </tr>\n",
       "  </tbody>\n",
       "</table>\n",
       "</div>"
      ],
      "text/plain": [
       "res1       Yes     No\n",
       "pred_rfc1            \n",
       "False      356  15289\n",
       "True       747   6108"
      ]
     },
     "execution_count": 65,
     "metadata": {},
     "output_type": "execute_result"
    }
   ],
   "source": [
    "preds_r = grid_auc_rfc.predict_proba(Xnon_test)\n",
    "\n",
    "test_result['prob_rfc1'] = preds_r[:,1]\n",
    "test_result['pred_rfc1'] = test_result['prob_rfc1']/2 > breakeven_rate\n",
    "\n",
    "perc_nn = test_result['pred_rfc1'].mean()\n",
    "rep_nn = functions.response_rate(test_result[test_result['pred_rfc1']==True]['res1'], lev='Yes')\n",
    "\n",
    "conf_nn = pd.crosstab(test_result['pred_rfc1'], test_result['res1'])\n",
    "conf_nn"
   ]
  },
  {
   "cell_type": "code",
   "execution_count": 66,
   "metadata": {},
   "outputs": [
    {
     "name": "stdout",
     "output_type": "stream",
     "text": [
      "By Random Forest model, the number of businesses to mail is 6,518 (30.47%). The response rate for the selected customers is predicted to be 10.9% or 355 buyers. The revenue is equal to $21,311. The expected profit is $12,119. The marginal cost is estimated to be $9,191 with a ROME of 131.85%\n"
     ]
    }
   ],
   "source": [
    "print(f\"\"\"By Random Forest model, {pref_calc_ad(perc_nn, rep_nn)}\"\"\")"
   ]
  },
  {
   "cell_type": "code",
   "execution_count": 16,
   "metadata": {},
   "outputs": [],
   "source": [
    "#data=pd.read_csv(\"test_result_all.csv\")\n",
    "#data[['prob_xgb2', 'pred_xgb2', 'prob_rfc1', 'pred_rfc1']]\n"
   ]
  },
  {
   "cell_type": "code",
   "execution_count": 17,
   "metadata": {},
   "outputs": [],
   "source": [
    "#test_result.loc[:, 'prob_xgb2'] = data['prob_xgb2'].values\n",
    "#test_result.loc[:, 'pred_xgb2'] = data['pred_xgb2'].values\n",
    "#test_result.loc[:, 'prob_rfc1'] = data['prob_rfc1'].values\n",
    "#test_result.loc[:, 'pred_rfc1'] = data['pred_rfc1'].values\n",
    "#test_result\n",
    "#test_result"
   ]
  },
  {
   "cell_type": "markdown",
   "metadata": {},
   "source": [
    "## 7. Decision tree classifier"
   ]
  },
  {
   "cell_type": "code",
   "execution_count": 67,
   "metadata": {},
   "outputs": [],
   "source": [
    "from sklearn.tree import DecisionTreeClassifier\n",
    "from sklearn import metrics, tree"
   ]
  },
  {
   "cell_type": "code",
   "execution_count": 68,
   "metadata": {},
   "outputs": [
    {
     "data": {
      "image/png": "[encoded data removed]",
      "text/plain": [
       "<Figure size 432x288 with 1 Axes>"
      ]
     },
     "metadata": {
      "needs_background": "light"
     },
     "output_type": "display_data"
    }
   ],
   "source": [
    "dt = DecisionTreeClassifier(max_depth=2, \n",
    "                           random_state=1234).fit(Xnon_train, y_train)\n",
    "fig = tree.plot_tree(dt, \n",
    "                     feature_names=train_cols, \n",
    "                     class_names=[\"yes\", \"no\"], \n",
    "                     filled=True)"
   ]
  },
  {
   "cell_type": "code",
   "execution_count": 69,
   "metadata": {},
   "outputs": [
    {
     "data": {
      "text/html": [
       "<div>\n",
       "<style scoped>\n",
       "    .dataframe tbody tr th:only-of-type {\n",
       "        vertical-align: middle;\n",
       "    }\n",
       "\n",
       "    .dataframe tbody tr th {\n",
       "        vertical-align: top;\n",
       "    }\n",
       "\n",
       "    .dataframe thead th {\n",
       "        text-align: right;\n",
       "    }\n",
       "</style>\n",
       "<table border=\"1\" class=\"dataframe\">\n",
       "  <thead>\n",
       "    <tr style=\"text-align: right;\">\n",
       "      <th>res1</th>\n",
       "      <th>Yes</th>\n",
       "      <th>No</th>\n",
       "    </tr>\n",
       "    <tr>\n",
       "      <th>pred_dt1</th>\n",
       "      <th></th>\n",
       "      <th></th>\n",
       "    </tr>\n",
       "  </thead>\n",
       "  <tbody>\n",
       "    <tr>\n",
       "      <th>False</th>\n",
       "      <td>295</td>\n",
       "      <td>12269</td>\n",
       "    </tr>\n",
       "    <tr>\n",
       "      <th>True</th>\n",
       "      <td>808</td>\n",
       "      <td>9128</td>\n",
       "    </tr>\n",
       "  </tbody>\n",
       "</table>\n",
       "</div>"
      ],
      "text/plain": [
       "res1      Yes     No\n",
       "pred_dt1            \n",
       "False     295  12269\n",
       "True      808   9128"
      ]
     },
     "execution_count": 69,
     "metadata": {},
     "output_type": "execute_result"
    }
   ],
   "source": [
    "dt_clf = DecisionTreeClassifier(max_depth=3, \n",
    "                           random_state=1234).fit(Xnon_train, y_train)\n",
    "\n",
    "test_result['prob_dt1'] = dt_clf.predict_proba(Xnon_test)[:,1]\n",
    "test_result['pred_dt1'] = test_result['prob_dt1']/2 > breakeven_rate\n",
    "\n",
    "perc_dt = test_result['pred_dt1'].mean()\n",
    "rep_dt = functions.response_rate(test_result[test_result['pred_dt1']==True]['res1'], lev='Yes')\n",
    "\n",
    "conf_nn = pd.crosstab(test_result['pred_dt1'], test_result['res1'])\n",
    "conf_nn"
   ]
  },
  {
   "cell_type": "code",
   "execution_count": 70,
   "metadata": {},
   "outputs": [
    {
     "data": {
      "text/plain": [
       "<AxesSubplot:title={'center':'Features Importances'}>"
      ]
     },
     "execution_count": 70,
     "metadata": {},
     "output_type": "execute_result"
    },
    {
     "data": {
      "image/png": "[encoded data removed]",
      "text/plain": [
       "<Figure size 432x288 with 1 Axes>"
      ]
     },
     "metadata": {
      "needs_background": "light"
     },
     "output_type": "display_data"
    }
   ],
   "source": [
    "dt_importance = pd.Series(data=dt_clf.feature_importances_, index=train_cols)\n",
    "dt_importance_sorted = dt_importance.sort_values()\n",
    "dt_importance_sorted.plot(kind='barh', \n",
    "                          color='lightgreen', \n",
    "                          title='Features Importances')"
   ]
  },
  {
   "cell_type": "code",
   "execution_count": 71,
   "metadata": {},
   "outputs": [
    {
     "name": "stdout",
     "output_type": "stream",
     "text": [
      "By untuned decision tree model, the number of businesses to mail is 9,448 (44.16%). The response rate for the selected customers is predicted to be 8.13% or 384 buyers. The revenue is equal to $23,051. The expected profit is $9,728. The marginal cost is estimated to be $13,322 with a ROME of 73.02%\n"
     ]
    }
   ],
   "source": [
    "print(f\"\"\"By untuned decision tree model, {pref_calc_ad(perc_dt, rep_dt)}\"\"\")"
   ]
  },
  {
   "cell_type": "code",
   "execution_count": 72,
   "metadata": {},
   "outputs": [
    {
     "name": "stdout",
     "output_type": "stream",
     "text": [
      "Fitting 5 folds for each of 18 candidates, totalling 90 fits\n",
      "Tuned Parameters: {'max_depth': 6}\n",
      "Best score is 0.750051568855375\n"
     ]
    }
   ],
   "source": [
    "dt_param_grid = {'max_depth': list(range(2, 20))}\n",
    "\n",
    "clf_dt = DecisionTreeClassifier(max_depth=20)#.fit(X_train, y_train)\n",
    "\n",
    "grid_auc_dt = GridSearchCV(clf_dt, \n",
    "                           dt_param_grid, \n",
    "                           scoring=scoring, \n",
    "                           cv=5, \n",
    "                           n_jobs=4, \n",
    "                           refit=\"AUC\", \n",
    "                           verbose=5).fit(Xnon_train, y_train)\n",
    "\n",
    "print(\"Tuned Parameters: {}\".format(grid_auc_dt.best_params_))\n",
    "print(\"Best score is {}\".format(grid_auc_dt.best_score_))"
   ]
  },
  {
   "cell_type": "code",
   "execution_count": 73,
   "metadata": {},
   "outputs": [
    {
     "data": {
      "text/html": [
       "<div>\n",
       "<style scoped>\n",
       "    .dataframe tbody tr th:only-of-type {\n",
       "        vertical-align: middle;\n",
       "    }\n",
       "\n",
       "    .dataframe tbody tr th {\n",
       "        vertical-align: top;\n",
       "    }\n",
       "\n",
       "    .dataframe thead th {\n",
       "        text-align: right;\n",
       "    }\n",
       "</style>\n",
       "<table border=\"1\" class=\"dataframe\">\n",
       "  <thead>\n",
       "    <tr style=\"text-align: right;\">\n",
       "      <th>res1</th>\n",
       "      <th>Yes</th>\n",
       "      <th>No</th>\n",
       "    </tr>\n",
       "    <tr>\n",
       "      <th>pred_dt2</th>\n",
       "      <th></th>\n",
       "      <th></th>\n",
       "    </tr>\n",
       "  </thead>\n",
       "  <tbody>\n",
       "    <tr>\n",
       "      <th>False</th>\n",
       "      <td>351</td>\n",
       "      <td>15011</td>\n",
       "    </tr>\n",
       "    <tr>\n",
       "      <th>True</th>\n",
       "      <td>752</td>\n",
       "      <td>6386</td>\n",
       "    </tr>\n",
       "  </tbody>\n",
       "</table>\n",
       "</div>"
      ],
      "text/plain": [
       "res1      Yes     No\n",
       "pred_dt2            \n",
       "False     351  15011\n",
       "True      752   6386"
      ]
     },
     "execution_count": 73,
     "metadata": {},
     "output_type": "execute_result"
    }
   ],
   "source": [
    "test_result['prob_dt2'] = grid_auc_dt.predict_proba(Xnon_test)[:,1]\n",
    "test_result['pred_dt2'] = test_result['prob_dt2']/2 > breakeven_rate\n",
    "\n",
    "\n",
    "perc_dt = test_result['pred_dt2'].mean()\n",
    "rep_dt = functions.response_rate(test_result[test_result['pred_dt2']==True]['res1'], lev='Yes')\n",
    "\n",
    "conf_nn = pd.crosstab(test_result['pred_dt2'], test_result['res1'])\n",
    "conf_nn"
   ]
  },
  {
   "cell_type": "code",
   "execution_count": 74,
   "metadata": {},
   "outputs": [
    {
     "name": "stdout",
     "output_type": "stream",
     "text": [
      "By tuned decision tree model, the number of businesses to mail is 6,788 (31.72%). The response rate for the selected customers is predicted to be 10.54% or 357 buyers. The revenue is equal to $21,454. The expected profit is $11,882. The marginal cost is estimated to be $9,571 with a ROME of 124.15%\n"
     ]
    }
   ],
   "source": [
    "print(f\"\"\"By tuned decision tree model, {pref_calc_ad(perc_dt, rep_dt)}\"\"\")"
   ]
  },
  {
   "cell_type": "markdown",
   "metadata": {},
   "source": [
    "## Comparing model performance"
   ]
  },
  {
   "cell_type": "code",
   "execution_count": 95,
   "metadata": {},
   "outputs": [
    {
     "data": {
      "text/plain": [
       "['prob_lg',\n",
       " 'prob_k1',\n",
       " 'prob_k2',\n",
       " 'prob_k3',\n",
       " 'prob_k4',\n",
       " 'prob_k5',\n",
       " 'prob_m1',\n",
       " 'prob_m2',\n",
       " 'prob_m3',\n",
       " 'prob_xgb1',\n",
       " 'prob_xgb2',\n",
       " 'prob_rfc1',\n",
       " 'prob_dt1',\n",
       " 'prob_dt2']"
      ]
     },
     "execution_count": 95,
     "metadata": {},
     "output_type": "execute_result"
    }
   ],
   "source": [
    "#test_result = pd.read_csv(\"test_result.csv\")\n",
    "models = []\n",
    "for col in test_result.columns:\n",
    "    if col[0:4] == 'prob':\n",
    "        models.append(col)\n",
    "models"
   ]
  },
  {
   "cell_type": "code",
   "execution_count": 96,
   "metadata": {},
   "outputs": [
    {
     "data": {
      "text/html": [
       "<div>\n",
       "<style scoped>\n",
       "    .dataframe tbody tr th:only-of-type {\n",
       "        vertical-align: middle;\n",
       "    }\n",
       "\n",
       "    .dataframe tbody tr th {\n",
       "        vertical-align: top;\n",
       "    }\n",
       "\n",
       "    .dataframe thead th {\n",
       "        text-align: right;\n",
       "    }\n",
       "</style>\n",
       "<table border=\"1\" class=\"dataframe\">\n",
       "  <thead>\n",
       "    <tr style=\"text-align: right;\">\n",
       "      <th></th>\n",
       "      <th>Type</th>\n",
       "      <th>predictor</th>\n",
       "      <th>TP</th>\n",
       "      <th>FP</th>\n",
       "      <th>TN</th>\n",
       "      <th>FN</th>\n",
       "      <th>total</th>\n",
       "      <th>TPR</th>\n",
       "      <th>TNR</th>\n",
       "      <th>precision</th>\n",
       "      <th>Fscore</th>\n",
       "      <th>accuracy</th>\n",
       "      <th>kappa</th>\n",
       "      <th>profit</th>\n",
       "      <th>index</th>\n",
       "      <th>ROME</th>\n",
       "      <th>contact</th>\n",
       "      <th>AUC</th>\n",
       "    </tr>\n",
       "  </thead>\n",
       "  <tbody>\n",
       "    <tr>\n",
       "      <th>0</th>\n",
       "      <td>All</td>\n",
       "      <td>prob_lg</td>\n",
       "      <td>748</td>\n",
       "      <td>5835</td>\n",
       "      <td>15562</td>\n",
       "      <td>355</td>\n",
       "      <td>22500</td>\n",
       "      <td>0.678</td>\n",
       "      <td>0.727</td>\n",
       "      <td>0.114</td>\n",
       "      <td>0.195</td>\n",
       "      <td>0.725</td>\n",
       "      <td>0.121</td>\n",
       "      <td>13157.97</td>\n",
       "      <td>0.978</td>\n",
       "      <td>1.418</td>\n",
       "      <td>0.293</td>\n",
       "      <td>0.763</td>\n",
       "    </tr>\n",
       "    <tr>\n",
       "      <th>1</th>\n",
       "      <td>All</td>\n",
       "      <td>prob_k1</td>\n",
       "      <td>684</td>\n",
       "      <td>4704</td>\n",
       "      <td>16693</td>\n",
       "      <td>419</td>\n",
       "      <td>22500</td>\n",
       "      <td>0.620</td>\n",
       "      <td>0.780</td>\n",
       "      <td>0.127</td>\n",
       "      <td>0.211</td>\n",
       "      <td>0.772</td>\n",
       "      <td>0.141</td>\n",
       "      <td>12922.92</td>\n",
       "      <td>0.960</td>\n",
       "      <td>1.701</td>\n",
       "      <td>0.239</td>\n",
       "      <td>0.759</td>\n",
       "    </tr>\n",
       "    <tr>\n",
       "      <th>2</th>\n",
       "      <td>All</td>\n",
       "      <td>prob_k2</td>\n",
       "      <td>851</td>\n",
       "      <td>8513</td>\n",
       "      <td>12884</td>\n",
       "      <td>252</td>\n",
       "      <td>22500</td>\n",
       "      <td>0.772</td>\n",
       "      <td>0.602</td>\n",
       "      <td>0.091</td>\n",
       "      <td>0.163</td>\n",
       "      <td>0.610</td>\n",
       "      <td>0.082</td>\n",
       "      <td>12326.76</td>\n",
       "      <td>0.916</td>\n",
       "      <td>0.934</td>\n",
       "      <td>0.416</td>\n",
       "      <td>0.765</td>\n",
       "    </tr>\n",
       "    <tr>\n",
       "      <th>3</th>\n",
       "      <td>All</td>\n",
       "      <td>prob_k3</td>\n",
       "      <td>817</td>\n",
       "      <td>7549</td>\n",
       "      <td>13848</td>\n",
       "      <td>286</td>\n",
       "      <td>22500</td>\n",
       "      <td>0.741</td>\n",
       "      <td>0.647</td>\n",
       "      <td>0.098</td>\n",
       "      <td>0.173</td>\n",
       "      <td>0.652</td>\n",
       "      <td>0.094</td>\n",
       "      <td>12713.94</td>\n",
       "      <td>0.945</td>\n",
       "      <td>1.078</td>\n",
       "      <td>0.372</td>\n",
       "      <td>0.764</td>\n",
       "    </tr>\n",
       "    <tr>\n",
       "      <th>4</th>\n",
       "      <td>All</td>\n",
       "      <td>prob_k4</td>\n",
       "      <td>676</td>\n",
       "      <td>4611</td>\n",
       "      <td>16786</td>\n",
       "      <td>427</td>\n",
       "      <td>22500</td>\n",
       "      <td>0.613</td>\n",
       "      <td>0.785</td>\n",
       "      <td>0.128</td>\n",
       "      <td>0.212</td>\n",
       "      <td>0.776</td>\n",
       "      <td>0.142</td>\n",
       "      <td>12825.33</td>\n",
       "      <td>0.953</td>\n",
       "      <td>1.720</td>\n",
       "      <td>0.235</td>\n",
       "      <td>0.760</td>\n",
       "    </tr>\n",
       "    <tr>\n",
       "      <th>5</th>\n",
       "      <td>All</td>\n",
       "      <td>prob_k5</td>\n",
       "      <td>803</td>\n",
       "      <td>7128</td>\n",
       "      <td>14269</td>\n",
       "      <td>300</td>\n",
       "      <td>22500</td>\n",
       "      <td>0.728</td>\n",
       "      <td>0.667</td>\n",
       "      <td>0.101</td>\n",
       "      <td>0.178</td>\n",
       "      <td>0.670</td>\n",
       "      <td>0.100</td>\n",
       "      <td>12907.29</td>\n",
       "      <td>0.959</td>\n",
       "      <td>1.154</td>\n",
       "      <td>0.352</td>\n",
       "      <td>0.764</td>\n",
       "    </tr>\n",
       "    <tr>\n",
       "      <th>6</th>\n",
       "      <td>All</td>\n",
       "      <td>prob_m1</td>\n",
       "      <td>730</td>\n",
       "      <td>5482</td>\n",
       "      <td>15915</td>\n",
       "      <td>373</td>\n",
       "      <td>22500</td>\n",
       "      <td>0.662</td>\n",
       "      <td>0.744</td>\n",
       "      <td>0.118</td>\n",
       "      <td>0.200</td>\n",
       "      <td>0.740</td>\n",
       "      <td>0.127</td>\n",
       "      <td>13141.08</td>\n",
       "      <td>0.977</td>\n",
       "      <td>1.500</td>\n",
       "      <td>0.276</td>\n",
       "      <td>0.763</td>\n",
       "    </tr>\n",
       "    <tr>\n",
       "      <th>7</th>\n",
       "      <td>All</td>\n",
       "      <td>prob_m2</td>\n",
       "      <td>748</td>\n",
       "      <td>5916</td>\n",
       "      <td>15481</td>\n",
       "      <td>355</td>\n",
       "      <td>22500</td>\n",
       "      <td>0.678</td>\n",
       "      <td>0.724</td>\n",
       "      <td>0.112</td>\n",
       "      <td>0.193</td>\n",
       "      <td>0.721</td>\n",
       "      <td>0.118</td>\n",
       "      <td>13043.76</td>\n",
       "      <td>0.969</td>\n",
       "      <td>1.388</td>\n",
       "      <td>0.296</td>\n",
       "      <td>0.763</td>\n",
       "    </tr>\n",
       "    <tr>\n",
       "      <th>8</th>\n",
       "      <td>All</td>\n",
       "      <td>prob_m3</td>\n",
       "      <td>748</td>\n",
       "      <td>5916</td>\n",
       "      <td>15481</td>\n",
       "      <td>355</td>\n",
       "      <td>22500</td>\n",
       "      <td>0.678</td>\n",
       "      <td>0.724</td>\n",
       "      <td>0.112</td>\n",
       "      <td>0.193</td>\n",
       "      <td>0.721</td>\n",
       "      <td>0.118</td>\n",
       "      <td>13043.76</td>\n",
       "      <td>0.969</td>\n",
       "      <td>1.388</td>\n",
       "      <td>0.296</td>\n",
       "      <td>0.763</td>\n",
       "    </tr>\n",
       "    <tr>\n",
       "      <th>9</th>\n",
       "      <td>All</td>\n",
       "      <td>prob_xgb1</td>\n",
       "      <td>887</td>\n",
       "      <td>10326</td>\n",
       "      <td>11071</td>\n",
       "      <td>216</td>\n",
       "      <td>22500</td>\n",
       "      <td>0.804</td>\n",
       "      <td>0.517</td>\n",
       "      <td>0.079</td>\n",
       "      <td>0.144</td>\n",
       "      <td>0.531</td>\n",
       "      <td>0.060</td>\n",
       "      <td>10799.67</td>\n",
       "      <td>0.803</td>\n",
       "      <td>0.683</td>\n",
       "      <td>0.498</td>\n",
       "      <td>0.761</td>\n",
       "    </tr>\n",
       "    <tr>\n",
       "      <th>10</th>\n",
       "      <td>All</td>\n",
       "      <td>prob_xgb2</td>\n",
       "      <td>745</td>\n",
       "      <td>5562</td>\n",
       "      <td>15835</td>\n",
       "      <td>358</td>\n",
       "      <td>22500</td>\n",
       "      <td>0.675</td>\n",
       "      <td>0.740</td>\n",
       "      <td>0.118</td>\n",
       "      <td>0.201</td>\n",
       "      <td>0.737</td>\n",
       "      <td>0.128</td>\n",
       "      <td>13457.13</td>\n",
       "      <td>1.000</td>\n",
       "      <td>1.513</td>\n",
       "      <td>0.280</td>\n",
       "      <td>0.767</td>\n",
       "    </tr>\n",
       "    <tr>\n",
       "      <th>11</th>\n",
       "      <td>All</td>\n",
       "      <td>prob_rfc1</td>\n",
       "      <td>738</td>\n",
       "      <td>5569</td>\n",
       "      <td>15828</td>\n",
       "      <td>365</td>\n",
       "      <td>22500</td>\n",
       "      <td>0.669</td>\n",
       "      <td>0.740</td>\n",
       "      <td>0.117</td>\n",
       "      <td>0.199</td>\n",
       "      <td>0.736</td>\n",
       "      <td>0.126</td>\n",
       "      <td>13247.13</td>\n",
       "      <td>0.984</td>\n",
       "      <td>1.490</td>\n",
       "      <td>0.280</td>\n",
       "      <td>0.763</td>\n",
       "    </tr>\n",
       "    <tr>\n",
       "      <th>12</th>\n",
       "      <td>All</td>\n",
       "      <td>prob_dt1</td>\n",
       "      <td>808</td>\n",
       "      <td>9128</td>\n",
       "      <td>12269</td>\n",
       "      <td>295</td>\n",
       "      <td>22500</td>\n",
       "      <td>0.733</td>\n",
       "      <td>0.573</td>\n",
       "      <td>0.081</td>\n",
       "      <td>0.146</td>\n",
       "      <td>0.581</td>\n",
       "      <td>0.064</td>\n",
       "      <td>10230.24</td>\n",
       "      <td>0.760</td>\n",
       "      <td>0.730</td>\n",
       "      <td>0.442</td>\n",
       "      <td>0.716</td>\n",
       "    </tr>\n",
       "    <tr>\n",
       "      <th>13</th>\n",
       "      <td>All</td>\n",
       "      <td>prob_dt2</td>\n",
       "      <td>752</td>\n",
       "      <td>6386</td>\n",
       "      <td>15011</td>\n",
       "      <td>351</td>\n",
       "      <td>22500</td>\n",
       "      <td>0.682</td>\n",
       "      <td>0.702</td>\n",
       "      <td>0.105</td>\n",
       "      <td>0.183</td>\n",
       "      <td>0.701</td>\n",
       "      <td>0.107</td>\n",
       "      <td>12495.42</td>\n",
       "      <td>0.929</td>\n",
       "      <td>1.242</td>\n",
       "      <td>0.317</td>\n",
       "      <td>0.748</td>\n",
       "    </tr>\n",
       "  </tbody>\n",
       "</table>\n",
       "</div>"
      ],
      "text/plain": [
       "   Type  predictor   TP     FP     TN   FN  total    TPR    TNR  precision  \\\n",
       "0   All    prob_lg  748   5835  15562  355  22500  0.678  0.727      0.114   \n",
       "1   All    prob_k1  684   4704  16693  419  22500  0.620  0.780      0.127   \n",
       "2   All    prob_k2  851   8513  12884  252  22500  0.772  0.602      0.091   \n",
       "3   All    prob_k3  817   7549  13848  286  22500  0.741  0.647      0.098   \n",
       "4   All    prob_k4  676   4611  16786  427  22500  0.613  0.785      0.128   \n",
       "5   All    prob_k5  803   7128  14269  300  22500  0.728  0.667      0.101   \n",
       "6   All    prob_m1  730   5482  15915  373  22500  0.662  0.744      0.118   \n",
       "7   All    prob_m2  748   5916  15481  355  22500  0.678  0.724      0.112   \n",
       "8   All    prob_m3  748   5916  15481  355  22500  0.678  0.724      0.112   \n",
       "9   All  prob_xgb1  887  10326  11071  216  22500  0.804  0.517      0.079   \n",
       "10  All  prob_xgb2  745   5562  15835  358  22500  0.675  0.740      0.118   \n",
       "11  All  prob_rfc1  738   5569  15828  365  22500  0.669  0.740      0.117   \n",
       "12  All   prob_dt1  808   9128  12269  295  22500  0.733  0.573      0.081   \n",
       "13  All   prob_dt2  752   6386  15011  351  22500  0.682  0.702      0.105   \n",
       "\n",
       "    Fscore  accuracy  kappa    profit  index   ROME  contact    AUC  \n",
       "0    0.195     0.725  0.121  13157.97  0.978  1.418    0.293  0.763  \n",
       "1    0.211     0.772  0.141  12922.92  0.960  1.701    0.239  0.759  \n",
       "2    0.163     0.610  0.082  12326.76  0.916  0.934    0.416  0.765  \n",
       "3    0.173     0.652  0.094  12713.94  0.945  1.078    0.372  0.764  \n",
       "4    0.212     0.776  0.142  12825.33  0.953  1.720    0.235  0.760  \n",
       "5    0.178     0.670  0.100  12907.29  0.959  1.154    0.352  0.764  \n",
       "6    0.200     0.740  0.127  13141.08  0.977  1.500    0.276  0.763  \n",
       "7    0.193     0.721  0.118  13043.76  0.969  1.388    0.296  0.763  \n",
       "8    0.193     0.721  0.118  13043.76  0.969  1.388    0.296  0.763  \n",
       "9    0.144     0.531  0.060  10799.67  0.803  0.683    0.498  0.761  \n",
       "10   0.201     0.737  0.128  13457.13  1.000  1.513    0.280  0.767  \n",
       "11   0.199     0.736  0.126  13247.13  0.984  1.490    0.280  0.763  \n",
       "12   0.146     0.581  0.064  10230.24  0.760  0.730    0.442  0.716  \n",
       "13   0.183     0.701  0.107  12495.42  0.929  1.242    0.317  0.748  "
      ]
     },
     "execution_count": 96,
     "metadata": {},
     "output_type": "execute_result"
    }
   ],
   "source": [
    "# summarize performance across all models in test set\n",
    "test_result['res1_yes'] = (test_result['res1'] =='Yes').astype(int)\n",
    "rsm.evalbin(test_result, \"res1_yes\", 1, models, cost=1.41, margin=30)"
   ]
  },
  {
   "cell_type": "code",
   "execution_count": 26,
   "metadata": {},
   "outputs": [
    {
     "data": {
      "text/html": [
       "<div>\n",
       "<style scoped>\n",
       "    .dataframe tbody tr th:only-of-type {\n",
       "        vertical-align: middle;\n",
       "    }\n",
       "\n",
       "    .dataframe tbody tr th {\n",
       "        vertical-align: top;\n",
       "    }\n",
       "\n",
       "    .dataframe thead th {\n",
       "        text-align: right;\n",
       "    }\n",
       "</style>\n",
       "<table border=\"1\" class=\"dataframe\">\n",
       "  <thead>\n",
       "    <tr style=\"text-align: right;\">\n",
       "      <th>res1</th>\n",
       "      <th>No</th>\n",
       "      <th>Yes</th>\n",
       "    </tr>\n",
       "    <tr>\n",
       "      <th>avg_pred</th>\n",
       "      <th></th>\n",
       "      <th></th>\n",
       "    </tr>\n",
       "  </thead>\n",
       "  <tbody>\n",
       "    <tr>\n",
       "      <th>False</th>\n",
       "      <td>15692</td>\n",
       "      <td>344</td>\n",
       "    </tr>\n",
       "    <tr>\n",
       "      <th>True</th>\n",
       "      <td>5705</td>\n",
       "      <td>759</td>\n",
       "    </tr>\n",
       "  </tbody>\n",
       "</table>\n",
       "</div>"
      ],
      "text/plain": [
       "res1         No  Yes\n",
       "avg_pred            \n",
       "False     15692  344\n",
       "True       5705  759"
      ]
     },
     "execution_count": 26,
     "metadata": {},
     "output_type": "execute_result"
    }
   ],
   "source": [
    "avg_mod = ['prob_k5', 'prob_m1', 'prob_xgb2', 'prob_rfc1', 'prob_dt2']\n",
    "breakeven_rate = 1.41/60\n",
    "test_result['avg_prob'] = test_result[avg_mod].sum(axis=1)/len(avg_mod)\n",
    "test_result['avg_pred'] = test_result['avg_prob']/2 > breakeven_rate\n",
    "\n",
    "perc_avg = test_result['avg_pred'].mean()\n",
    "rep_avg = functions.response_rate(test_result[test_result['avg_pred']==True]['res1'], lev='Yes')\n",
    "\n",
    "conf_nn = pd.crosstab(test_result['avg_pred'], test_result['res1'])\n",
    "conf_nn"
   ]
  },
  {
   "cell_type": "code",
   "execution_count": 29,
   "metadata": {},
   "outputs": [
    {
     "name": "stdout",
     "output_type": "stream",
     "text": [
      "By average all model, the number of businesses to mail is 6,147 (28.73%). The response rate for the selected customers is predicted to be 11.74% or 360 buyers. The revenue is equal to $21,653. The expected profit is $12,986. The marginal cost is estimated to be $8,667 with a ROME of 149.83%\n"
     ]
    }
   ],
   "source": [
    "print(f\"\"\"By average all model, {pref_calc_ad(perc_avg, rep_avg)}\"\"\")"
   ]
  },
  {
   "cell_type": "code",
   "execution_count": 133,
   "metadata": {},
   "outputs": [],
   "source": [
    "#test_result.to_csv(\"test_result_new.csv\", index=False)"
   ]
  },
  {
   "cell_type": "code",
   "execution_count": 25,
   "metadata": {},
   "outputs": [],
   "source": [
    "#test_result=pd.read_csv(\"test_result_new.csv\")"
   ]
  },
  {
   "cell_type": "code",
   "execution_count": 35,
   "metadata": {},
   "outputs": [],
   "source": []
  },
  {
   "cell_type": "code",
   "execution_count": 42,
   "metadata": {},
   "outputs": [],
   "source": [
    "#test_result['mailto_wave2'] = (test_result['avg_pred'] == True) & (test_result['res1'] == 'No')# & (test_result['avg_pred'] == True)\n",
    "#mail = test_result[['id','mailto_wave2']].to_csv('mailto_wave2.csv', index = False)\n"
   ]
  },
  {
   "cell_type": "code",
   "execution_count": 44,
   "metadata": {},
   "outputs": [
    {
     "data": {
      "text/plain": [
       "22500"
      ]
     },
     "execution_count": 44,
     "metadata": {},
     "output_type": "execute_result"
    }
   ],
   "source": [
    "#len(test_result[['id','mailto_wave2']])"
   ]
  },
  {
   "cell_type": "code",
   "execution_count": null,
   "metadata": {},
   "outputs": [],
   "source": []
  },
  {
   "cell_type": "code",
   "execution_count": null,
   "metadata": {},
   "outputs": [],
   "source": []
  }
 ],
 "metadata": {
  "kernelspec": {
   "display_name": "Python 3",
   "language": "python",
   "name": "python3"
  },
  "language_info": {
   "codemirror_mode": {
    "name": "ipython",
    "version": 3
   },
   "file_extension": ".py",
   "mimetype": "text/x-python",
   "name": "python",
   "nbconvert_exporter": "python",
   "pygments_lexer": "ipython3",
   "version": "3.8.5"
  }
 },
 "nbformat": 4,
 "nbformat_minor": 4
}
